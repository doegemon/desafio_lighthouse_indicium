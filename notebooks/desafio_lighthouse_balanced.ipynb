{
 "cells": [
  {
   "attachments": {},
   "cell_type": "markdown",
   "metadata": {},
   "source": [
    "# Previsão de Potencial de Falha de Maquinário"
   ]
  },
  {
   "attachments": {},
   "cell_type": "markdown",
   "metadata": {},
   "source": [
    "O objetivo do presente projeto é identificar quais máquinas apresentam potencial de falha, tendo como base dados extraídos de sensores durante o processo de manufatura."
   ]
  },
  {
   "attachments": {},
   "cell_type": "markdown",
   "metadata": {},
   "source": [
    "## 0. Importação de Bibliotecas e *Helper Functions*"
   ]
  },
  {
   "cell_type": "code",
   "execution_count": 155,
   "metadata": {},
   "outputs": [],
   "source": [
    "import random\n",
    "import warnings\n",
    "import numpy   as np\n",
    "import pandas  as pd\n",
    "import seaborn as sns\n",
    "from boruta                  import BorutaPy\n",
    "from lightgbm                import LGBMClassifier\n",
    "from matplotlib              import pyplot as plt\n",
    "from sklearn.svm             import LinearSVC\n",
    "from sklearn.metrics         import accuracy_score, precision_score, recall_score, f1_score \n",
    "from sklearn.ensemble        import ExtraTreesClassifier, RandomForestClassifier, RandomForestRegressor\n",
    "from sklearn.neighbors       import KNeighborsClassifier\n",
    "from sklearn.multiclass      import OneVsRestClassifier\n",
    "from sklearn.naive_bayes     import GaussianNB\n",
    "from sklearn.linear_model    import LogisticRegression\n",
    "from sklearn.preprocessing   import StandardScaler, MinMaxScaler, RobustScaler\n",
    "from imblearn.over_sampling  import SMOTE\n",
    "from sklearn.model_selection import train_test_split, StratifiedKFold"
   ]
  },
  {
   "cell_type": "code",
   "execution_count": 156,
   "metadata": {},
   "outputs": [],
   "source": [
    "def personal_settings():\n",
    "    %matplotlib inline\n",
    "    plt.style.use('bmh')\n",
    "    plt.rcParams['font.size'] = 20\n",
    "    pd.options.display.max_columns = None\n",
    "    pd.options.display.max_rows = None\n",
    "    pd.set_option('display.float_format', lambda x:'%.2f' % x)\n",
    "    sns.set()\n",
    "    sns.set(rc = {'figure.figsize':(12,6)})\n",
    "    warnings.filterwarnings('ignore')\n",
    "\n",
    "personal_settings()"
   ]
  },
  {
   "cell_type": "code",
   "execution_count": 342,
   "metadata": {},
   "outputs": [],
   "source": [
    "def failure_rate(df, atribute):\n",
    "  '''Função usada na etapa de validação de hipóteses, para calcular o percentual de falha em razão de algum atributo do conjunto de dados'''\n",
    "  df_result = pd.DataFrame()\n",
    "\n",
    "  for i in df[atribute].unique():\n",
    "    mask_i = df[atribute] == i\n",
    "    maskf = df['result'] == 'failure'\n",
    "    masknf = df['result'] == 'no_failure'\n",
    "    failure = (df[mask_i & maskf].shape[0] / df[mask_i & masknf].shape[0]) * 100\n",
    "\n",
    "    df_temp = pd.DataFrame({atribute: i, \n",
    "              'failure_rate (%)': failure}, index=[0])\n",
    "    df_result = pd.concat([df_result, df_temp])\n",
    "\n",
    "  df_result = df_result.sort_values('failure_rate (%)', ascending=False)\n",
    "  \n",
    "  return df_result\n",
    "\n",
    "def model_avaliation(data, y_hat, y_val, model_name):\n",
    "    '''Função para preparar os dados, calcular o precision, recall e accuracy do modelo e retornar os valors em um dataframe'''\n",
    "    df = data.copy()\n",
    "    df['classification'] = y_hat.tolist()\n",
    "    \n",
    "    precision = precision_score(y_val, y_hat, average='macro')\n",
    "    recall = recall_score(y_val, y_hat, average='macro')\n",
    "    f1score = f1_score(y_val, y_hat, average='macro')\n",
    "    accuracy = accuracy_score(y_val, y_hat)\n",
    "    \n",
    "    return pd.DataFrame({'Precision': precision,\n",
    "                        'Recall': recall,\n",
    "                        'F1-Score': f1score,\n",
    "                        'Accuracy': accuracy}, index=[model_name])\n",
    "\n",
    "def cross_validation(model_name, model, x_train, y_train, verbose=False):\n",
    "    '''Função para realizar o Cross Validation dos modelos de Machine Learning'''\n",
    "    precision_list = []\n",
    "    recall_list    = []\n",
    "    f1_list        = []\n",
    "    \n",
    "    kfolds = StratifiedKFold(n_splits = 5, shuffle=True, random_state=5)\n",
    "    \n",
    "    for cv_train, cv_val in kfolds.split(x_train, y_train):\n",
    "        \n",
    "        # Cross-Validation Train\n",
    "        xtrain_val = x_train.iloc[cv_train]\n",
    "        ytrain_val = y_train.iloc[cv_train]\n",
    "        \n",
    "        oversample = SMOTE()\n",
    "        x_train_over, y_train_over = oversample.fit_resample(xtrain_val, ytrain_val)\n",
    "\n",
    "        # Cross-Validation Validation\n",
    "        xval = x_train.iloc[cv_val]\n",
    "        yval = y_train.iloc[cv_val]\n",
    "        \n",
    "        # Treinamento do modelo\n",
    "        model.fit(x_train_over, y_train_over)\n",
    "\n",
    "        # Previsão\n",
    "        yhat = model.predict(xval)\n",
    "        \n",
    "        # Preparando os Dados\n",
    "        data = xval.copy()\n",
    "        data['failure_type'] = yval.copy()\n",
    "\n",
    "        # Score\n",
    "        data['classification'] = yhat.tolist()\n",
    "\n",
    "        # Performance\n",
    "        precision = precision_score(yval, yhat, average='macro')\n",
    "        precision_list.append(precision)\n",
    "        \n",
    "        recall = recall_score(yval, yhat, average='macro')\n",
    "        recall_list.append(recall)\n",
    "\n",
    "        f1score = f1_score(yval, yhat, average='macro')\n",
    "        f1_list.append(f1score)\n",
    "        \n",
    "        acc = accuracy_score(yval, yhat)\n",
    "        \n",
    "    return pd.DataFrame({'Precision - CV': np.round(np.mean(precision_list), 3),\n",
    "                         'Recall - CV': np.round(np.mean(recall_list), 3),\n",
    "                         'F1-Score - CV': np.round(np.mean(f1_list), 3),\n",
    "                         'Accuracy - CV': np.round(np.mean(acc), 3)},index=[model_name])"
   ]
  },
  {
   "attachments": {},
   "cell_type": "markdown",
   "metadata": {},
   "source": [
    "## 1. Carregando os Dados"
   ]
  },
  {
   "attachments": {},
   "cell_type": "markdown",
   "metadata": {},
   "source": [
    "Simples importação e exibição dos 05 primeiros registros do conjunto de dados, para ter um contato inicial."
   ]
  },
  {
   "cell_type": "code",
   "execution_count": 158,
   "metadata": {},
   "outputs": [
    {
     "data": {
      "text/html": [
       "<div>\n",
       "<style scoped>\n",
       "    .dataframe tbody tr th:only-of-type {\n",
       "        vertical-align: middle;\n",
       "    }\n",
       "\n",
       "    .dataframe tbody tr th {\n",
       "        vertical-align: top;\n",
       "    }\n",
       "\n",
       "    .dataframe thead th {\n",
       "        text-align: right;\n",
       "    }\n",
       "</style>\n",
       "<table border=\"1\" class=\"dataframe\">\n",
       "  <thead>\n",
       "    <tr style=\"text-align: right;\">\n",
       "      <th></th>\n",
       "      <th>udi</th>\n",
       "      <th>product_id</th>\n",
       "      <th>type</th>\n",
       "      <th>air_temperature_k</th>\n",
       "      <th>process_temperature_k</th>\n",
       "      <th>rotational_speed_rpm</th>\n",
       "      <th>torque_nm</th>\n",
       "      <th>tool_wear_min</th>\n",
       "      <th>failure_type</th>\n",
       "    </tr>\n",
       "  </thead>\n",
       "  <tbody>\n",
       "    <tr>\n",
       "      <th>0</th>\n",
       "      <td>1</td>\n",
       "      <td>M14860</td>\n",
       "      <td>M</td>\n",
       "      <td>298.10</td>\n",
       "      <td>308.60</td>\n",
       "      <td>1551</td>\n",
       "      <td>42.80</td>\n",
       "      <td>0</td>\n",
       "      <td>No Failure</td>\n",
       "    </tr>\n",
       "    <tr>\n",
       "      <th>1</th>\n",
       "      <td>2</td>\n",
       "      <td>L47181</td>\n",
       "      <td>L</td>\n",
       "      <td>298.20</td>\n",
       "      <td>308.70</td>\n",
       "      <td>1408</td>\n",
       "      <td>46.30</td>\n",
       "      <td>3</td>\n",
       "      <td>No Failure</td>\n",
       "    </tr>\n",
       "    <tr>\n",
       "      <th>2</th>\n",
       "      <td>5</td>\n",
       "      <td>L47184</td>\n",
       "      <td>L</td>\n",
       "      <td>298.20</td>\n",
       "      <td>308.70</td>\n",
       "      <td>1408</td>\n",
       "      <td>40.00</td>\n",
       "      <td>9</td>\n",
       "      <td>No Failure</td>\n",
       "    </tr>\n",
       "    <tr>\n",
       "      <th>3</th>\n",
       "      <td>6</td>\n",
       "      <td>M14865</td>\n",
       "      <td>M</td>\n",
       "      <td>298.10</td>\n",
       "      <td>308.60</td>\n",
       "      <td>1425</td>\n",
       "      <td>41.90</td>\n",
       "      <td>11</td>\n",
       "      <td>No Failure</td>\n",
       "    </tr>\n",
       "    <tr>\n",
       "      <th>4</th>\n",
       "      <td>7</td>\n",
       "      <td>L47186</td>\n",
       "      <td>L</td>\n",
       "      <td>298.10</td>\n",
       "      <td>308.60</td>\n",
       "      <td>1558</td>\n",
       "      <td>42.40</td>\n",
       "      <td>14</td>\n",
       "      <td>No Failure</td>\n",
       "    </tr>\n",
       "  </tbody>\n",
       "</table>\n",
       "</div>"
      ],
      "text/plain": [
       "   udi product_id type  air_temperature_k  process_temperature_k  \\\n",
       "0    1     M14860    M             298.10                 308.60   \n",
       "1    2     L47181    L             298.20                 308.70   \n",
       "2    5     L47184    L             298.20                 308.70   \n",
       "3    6     M14865    M             298.10                 308.60   \n",
       "4    7     L47186    L             298.10                 308.60   \n",
       "\n",
       "   rotational_speed_rpm  torque_nm  tool_wear_min failure_type  \n",
       "0                  1551      42.80              0   No Failure  \n",
       "1                  1408      46.30              3   No Failure  \n",
       "2                  1408      40.00              9   No Failure  \n",
       "3                  1425      41.90             11   No Failure  \n",
       "4                  1558      42.40             14   No Failure  "
      ]
     },
     "execution_count": 158,
     "metadata": {},
     "output_type": "execute_result"
    }
   ],
   "source": [
    "df_raw = pd.read_csv('../data/desafio_manutencao_preditiva_treino.csv')\n",
    "df_raw.head()"
   ]
  },
  {
   "attachments": {},
   "cell_type": "markdown",
   "metadata": {},
   "source": [
    "## 2. Descrição dos Dados"
   ]
  },
  {
   "attachments": {},
   "cell_type": "markdown",
   "metadata": {},
   "source": [
    "Como boa prática, sempre ao iniciar uma nova seção do projeto, crio uma cópia do dataframe anterior. "
   ]
  },
  {
   "cell_type": "code",
   "execution_count": 159,
   "metadata": {},
   "outputs": [],
   "source": [
    "df1 = df_raw.copy()"
   ]
  },
  {
   "attachments": {},
   "cell_type": "markdown",
   "metadata": {},
   "source": [
    "### 2.1 Dicionário de Colunas"
   ]
  },
  {
   "cell_type": "code",
   "execution_count": 160,
   "metadata": {},
   "outputs": [
    {
     "data": {
      "text/plain": [
       "Index(['udi', 'product_id', 'type', 'air_temperature_k',\n",
       "       'process_temperature_k', 'rotational_speed_rpm', 'torque_nm',\n",
       "       'tool_wear_min', 'failure_type'],\n",
       "      dtype='object')"
      ]
     },
     "execution_count": 160,
     "metadata": {},
     "output_type": "execute_result"
    }
   ],
   "source": [
    "df1.columns"
   ]
  },
  {
   "attachments": {},
   "cell_type": "markdown",
   "metadata": {},
   "source": [
    "Criar esse dicionário de colunas vai facilitar para entender o que os valores de cada atributo representam."
   ]
  },
  {
   "attachments": {},
   "cell_type": "markdown",
   "metadata": {},
   "source": [
    "|    Atributos         |                         Significado                          |\n",
    "| :------------------: | :----------------------------------------------------------: |\n",
    "|udi                   |identificador único|\n",
    "|product_id            |identificador único do produto|\n",
    "|type                  |tipo do produto de acordo com sua qualidade (L para *low*, M para *medium* e H para *high*)|\n",
    "|air_temperature_k     |temperatura do ar em Kelvins|\n",
    "|process_temperature_k |temperatura do processo em Kelvins|\n",
    "|rotational_speed_rpm  |velocidade rotacional em Rotações por Minuto|\n",
    "|torque_nm             |medição do torque em Newton metro|\n",
    "|tool_wear_min         |desgaste da ferramenta utilizada no processo em minutos|\n",
    "|failure_type (variável resposta) |indica se a máquina falhou ou não (*No Failure*, *Power Failure*, *Tool Wear Failure*, *Overstrain Failure*, *Random Failures*, *Heat Dissipation Failure*) |"
   ]
  },
  {
   "attachments": {},
   "cell_type": "markdown",
   "metadata": {},
   "source": [
    "### 2.2 Dimensões"
   ]
  },
  {
   "cell_type": "code",
   "execution_count": 161,
   "metadata": {},
   "outputs": [
    {
     "name": "stdout",
     "output_type": "stream",
     "text": [
      "Número de registros/linhas:   6667\n",
      "Número de atributos/colunas: 9\n"
     ]
    }
   ],
   "source": [
    "print(f'Número de registros/linhas:   {df1.shape[0]}')\n",
    "print(f'Número de atributos/colunas: {df1.shape[1]}')"
   ]
  },
  {
   "attachments": {},
   "cell_type": "markdown",
   "metadata": {},
   "source": [
    "### 2.3 Tipos de Dados"
   ]
  },
  {
   "cell_type": "code",
   "execution_count": 162,
   "metadata": {},
   "outputs": [
    {
     "data": {
      "text/plain": [
       "udi                        int64\n",
       "product_id                object\n",
       "type                      object\n",
       "air_temperature_k        float64\n",
       "process_temperature_k    float64\n",
       "rotational_speed_rpm       int64\n",
       "torque_nm                float64\n",
       "tool_wear_min              int64\n",
       "failure_type              object\n",
       "dtype: object"
      ]
     },
     "execution_count": 162,
     "metadata": {},
     "output_type": "execute_result"
    }
   ],
   "source": [
    "df1.dtypes"
   ]
  },
  {
   "attachments": {},
   "cell_type": "markdown",
   "metadata": {},
   "source": [
    "Olhando para os tipos de dados de cada atributo, bem como para o conjunto de dados em si, não vejo necessidade de alterar algum tipo de dado."
   ]
  },
  {
   "attachments": {},
   "cell_type": "markdown",
   "metadata": {},
   "source": [
    "### 2.4 Valores Nulos"
   ]
  },
  {
   "cell_type": "code",
   "execution_count": 163,
   "metadata": {},
   "outputs": [
    {
     "data": {
      "text/plain": [
       "udi                      0\n",
       "product_id               0\n",
       "type                     0\n",
       "air_temperature_k        0\n",
       "process_temperature_k    0\n",
       "rotational_speed_rpm     0\n",
       "torque_nm                0\n",
       "tool_wear_min            0\n",
       "failure_type             0\n",
       "dtype: int64"
      ]
     },
     "execution_count": 163,
     "metadata": {},
     "output_type": "execute_result"
    }
   ],
   "source": [
    "df1.isna().sum()"
   ]
  },
  {
   "attachments": {},
   "cell_type": "markdown",
   "metadata": {},
   "source": [
    "Não temos nenhum valor nulo no conjunto de dados, então não preciso me preocupar em remover ou preencher valores faltantes."
   ]
  },
  {
   "attachments": {},
   "cell_type": "markdown",
   "metadata": {},
   "source": [
    "### 2.5 Registros Duplicados"
   ]
  },
  {
   "cell_type": "code",
   "execution_count": 164,
   "metadata": {},
   "outputs": [
    {
     "data": {
      "text/plain": [
       "0"
      ]
     },
     "execution_count": 164,
     "metadata": {},
     "output_type": "execute_result"
    }
   ],
   "source": [
    "df1.duplicated().sum()"
   ]
  },
  {
   "attachments": {},
   "cell_type": "markdown",
   "metadata": {},
   "source": [
    "Também não temos nenhum registro duplicado, então não preciso remove-los."
   ]
  },
  {
   "attachments": {},
   "cell_type": "markdown",
   "metadata": {},
   "source": [
    "### 2.6 Análise Estatística Descritiva"
   ]
  },
  {
   "attachments": {},
   "cell_type": "markdown",
   "metadata": {},
   "source": [
    "#### 2.6.1 Atributos Numéricos"
   ]
  },
  {
   "cell_type": "code",
   "execution_count": 165,
   "metadata": {},
   "outputs": [
    {
     "data": {
      "text/html": [
       "<div>\n",
       "<style scoped>\n",
       "    .dataframe tbody tr th:only-of-type {\n",
       "        vertical-align: middle;\n",
       "    }\n",
       "\n",
       "    .dataframe tbody tr th {\n",
       "        vertical-align: top;\n",
       "    }\n",
       "\n",
       "    .dataframe thead th {\n",
       "        text-align: right;\n",
       "    }\n",
       "</style>\n",
       "<table border=\"1\" class=\"dataframe\">\n",
       "  <thead>\n",
       "    <tr style=\"text-align: right;\">\n",
       "      <th></th>\n",
       "      <th>udi</th>\n",
       "      <th>air_temperature_k</th>\n",
       "      <th>process_temperature_k</th>\n",
       "      <th>rotational_speed_rpm</th>\n",
       "      <th>torque_nm</th>\n",
       "      <th>tool_wear_min</th>\n",
       "    </tr>\n",
       "  </thead>\n",
       "  <tbody>\n",
       "    <tr>\n",
       "      <th>0</th>\n",
       "      <td>1</td>\n",
       "      <td>298.10</td>\n",
       "      <td>308.60</td>\n",
       "      <td>1551</td>\n",
       "      <td>42.80</td>\n",
       "      <td>0</td>\n",
       "    </tr>\n",
       "    <tr>\n",
       "      <th>1</th>\n",
       "      <td>2</td>\n",
       "      <td>298.20</td>\n",
       "      <td>308.70</td>\n",
       "      <td>1408</td>\n",
       "      <td>46.30</td>\n",
       "      <td>3</td>\n",
       "    </tr>\n",
       "    <tr>\n",
       "      <th>2</th>\n",
       "      <td>5</td>\n",
       "      <td>298.20</td>\n",
       "      <td>308.70</td>\n",
       "      <td>1408</td>\n",
       "      <td>40.00</td>\n",
       "      <td>9</td>\n",
       "    </tr>\n",
       "    <tr>\n",
       "      <th>3</th>\n",
       "      <td>6</td>\n",
       "      <td>298.10</td>\n",
       "      <td>308.60</td>\n",
       "      <td>1425</td>\n",
       "      <td>41.90</td>\n",
       "      <td>11</td>\n",
       "    </tr>\n",
       "    <tr>\n",
       "      <th>4</th>\n",
       "      <td>7</td>\n",
       "      <td>298.10</td>\n",
       "      <td>308.60</td>\n",
       "      <td>1558</td>\n",
       "      <td>42.40</td>\n",
       "      <td>14</td>\n",
       "    </tr>\n",
       "  </tbody>\n",
       "</table>\n",
       "</div>"
      ],
      "text/plain": [
       "   udi  air_temperature_k  process_temperature_k  rotational_speed_rpm  \\\n",
       "0    1             298.10                 308.60                  1551   \n",
       "1    2             298.20                 308.70                  1408   \n",
       "2    5             298.20                 308.70                  1408   \n",
       "3    6             298.10                 308.60                  1425   \n",
       "4    7             298.10                 308.60                  1558   \n",
       "\n",
       "   torque_nm  tool_wear_min  \n",
       "0      42.80              0  \n",
       "1      46.30              3  \n",
       "2      40.00              9  \n",
       "3      41.90             11  \n",
       "4      42.40             14  "
      ]
     },
     "execution_count": 165,
     "metadata": {},
     "output_type": "execute_result"
    }
   ],
   "source": [
    "df1_numerical = df1.select_dtypes(include= ['int64', 'float64'])\n",
    "df1_numerical.head()"
   ]
  },
  {
   "attachments": {},
   "cell_type": "markdown",
   "metadata": {},
   "source": [
    "Verificando o dicionário de colunas, vou remover a coluna *udi*, já que somente corresponde a um identificador único da medição do sensor."
   ]
  },
  {
   "cell_type": "code",
   "execution_count": 166,
   "metadata": {},
   "outputs": [
    {
     "data": {
      "text/html": [
       "<div>\n",
       "<style scoped>\n",
       "    .dataframe tbody tr th:only-of-type {\n",
       "        vertical-align: middle;\n",
       "    }\n",
       "\n",
       "    .dataframe tbody tr th {\n",
       "        vertical-align: top;\n",
       "    }\n",
       "\n",
       "    .dataframe thead th {\n",
       "        text-align: right;\n",
       "    }\n",
       "</style>\n",
       "<table border=\"1\" class=\"dataframe\">\n",
       "  <thead>\n",
       "    <tr style=\"text-align: right;\">\n",
       "      <th></th>\n",
       "      <th>air_temperature_k</th>\n",
       "      <th>process_temperature_k</th>\n",
       "      <th>rotational_speed_rpm</th>\n",
       "      <th>torque_nm</th>\n",
       "      <th>tool_wear_min</th>\n",
       "    </tr>\n",
       "  </thead>\n",
       "  <tbody>\n",
       "    <tr>\n",
       "      <th>0</th>\n",
       "      <td>298.10</td>\n",
       "      <td>308.60</td>\n",
       "      <td>1551</td>\n",
       "      <td>42.80</td>\n",
       "      <td>0</td>\n",
       "    </tr>\n",
       "    <tr>\n",
       "      <th>1</th>\n",
       "      <td>298.20</td>\n",
       "      <td>308.70</td>\n",
       "      <td>1408</td>\n",
       "      <td>46.30</td>\n",
       "      <td>3</td>\n",
       "    </tr>\n",
       "    <tr>\n",
       "      <th>2</th>\n",
       "      <td>298.20</td>\n",
       "      <td>308.70</td>\n",
       "      <td>1408</td>\n",
       "      <td>40.00</td>\n",
       "      <td>9</td>\n",
       "    </tr>\n",
       "    <tr>\n",
       "      <th>3</th>\n",
       "      <td>298.10</td>\n",
       "      <td>308.60</td>\n",
       "      <td>1425</td>\n",
       "      <td>41.90</td>\n",
       "      <td>11</td>\n",
       "    </tr>\n",
       "    <tr>\n",
       "      <th>4</th>\n",
       "      <td>298.10</td>\n",
       "      <td>308.60</td>\n",
       "      <td>1558</td>\n",
       "      <td>42.40</td>\n",
       "      <td>14</td>\n",
       "    </tr>\n",
       "  </tbody>\n",
       "</table>\n",
       "</div>"
      ],
      "text/plain": [
       "   air_temperature_k  process_temperature_k  rotational_speed_rpm  torque_nm  \\\n",
       "0             298.10                 308.60                  1551      42.80   \n",
       "1             298.20                 308.70                  1408      46.30   \n",
       "2             298.20                 308.70                  1408      40.00   \n",
       "3             298.10                 308.60                  1425      41.90   \n",
       "4             298.10                 308.60                  1558      42.40   \n",
       "\n",
       "   tool_wear_min  \n",
       "0              0  \n",
       "1              3  \n",
       "2              9  \n",
       "3             11  \n",
       "4             14  "
      ]
     },
     "execution_count": 166,
     "metadata": {},
     "output_type": "execute_result"
    }
   ],
   "source": [
    "df1_numerical = df1_numerical.drop('udi', axis=1)\n",
    "df1_numerical.head()"
   ]
  },
  {
   "attachments": {},
   "cell_type": "markdown",
   "metadata": {},
   "source": [
    "Agora vou calcular algumas medidas de estatística para ter uma noção da concentração e distribuição de valores para cada um desses atributos."
   ]
  },
  {
   "cell_type": "code",
   "execution_count": 167,
   "metadata": {},
   "outputs": [],
   "source": [
    "df_mean     = pd.DataFrame(df1_numerical.apply(np.mean)).T\n",
    "df_median   = pd.DataFrame(df1_numerical.apply(np.median)).T\n",
    "df_std      = pd.DataFrame(df1_numerical.apply(np.std)).T\n",
    "df_min      = pd.DataFrame(df1_numerical.apply(min)).T\n",
    "df_max      = pd.DataFrame(df1_numerical.apply(max)).T\n",
    "df_range    = pd.DataFrame(df1_numerical.apply(lambda x: x.max() - x.min())).T\n",
    "df_skew     = pd.DataFrame(df1_numerical.apply(lambda x: x.skew())).T\n",
    "df_kurtosis = pd.DataFrame(df1_numerical.apply(lambda x: x.kurtosis())).T"
   ]
  },
  {
   "cell_type": "code",
   "execution_count": 168,
   "metadata": {},
   "outputs": [
    {
     "data": {
      "text/html": [
       "<div>\n",
       "<style scoped>\n",
       "    .dataframe tbody tr th:only-of-type {\n",
       "        vertical-align: middle;\n",
       "    }\n",
       "\n",
       "    .dataframe tbody tr th {\n",
       "        vertical-align: top;\n",
       "    }\n",
       "\n",
       "    .dataframe thead th {\n",
       "        text-align: right;\n",
       "    }\n",
       "</style>\n",
       "<table border=\"1\" class=\"dataframe\">\n",
       "  <thead>\n",
       "    <tr style=\"text-align: right;\">\n",
       "      <th></th>\n",
       "      <th>attributes</th>\n",
       "      <th>min</th>\n",
       "      <th>max</th>\n",
       "      <th>range</th>\n",
       "      <th>mean</th>\n",
       "      <th>median</th>\n",
       "      <th>std</th>\n",
       "      <th>skew</th>\n",
       "      <th>kurtosis</th>\n",
       "    </tr>\n",
       "  </thead>\n",
       "  <tbody>\n",
       "    <tr>\n",
       "      <th>0</th>\n",
       "      <td>air_temperature_k</td>\n",
       "      <td>295.30</td>\n",
       "      <td>304.50</td>\n",
       "      <td>9.20</td>\n",
       "      <td>299.99</td>\n",
       "      <td>300.00</td>\n",
       "      <td>1.99</td>\n",
       "      <td>0.13</td>\n",
       "      <td>-0.82</td>\n",
       "    </tr>\n",
       "    <tr>\n",
       "      <th>1</th>\n",
       "      <td>process_temperature_k</td>\n",
       "      <td>305.70</td>\n",
       "      <td>313.80</td>\n",
       "      <td>8.10</td>\n",
       "      <td>309.99</td>\n",
       "      <td>310.00</td>\n",
       "      <td>1.49</td>\n",
       "      <td>0.02</td>\n",
       "      <td>-0.51</td>\n",
       "    </tr>\n",
       "    <tr>\n",
       "      <th>2</th>\n",
       "      <td>rotational_speed_rpm</td>\n",
       "      <td>1168.00</td>\n",
       "      <td>2886.00</td>\n",
       "      <td>1718.00</td>\n",
       "      <td>1537.42</td>\n",
       "      <td>1503.00</td>\n",
       "      <td>177.17</td>\n",
       "      <td>1.95</td>\n",
       "      <td>7.31</td>\n",
       "    </tr>\n",
       "    <tr>\n",
       "      <th>3</th>\n",
       "      <td>torque_nm</td>\n",
       "      <td>3.80</td>\n",
       "      <td>76.60</td>\n",
       "      <td>72.80</td>\n",
       "      <td>40.06</td>\n",
       "      <td>40.20</td>\n",
       "      <td>9.95</td>\n",
       "      <td>0.01</td>\n",
       "      <td>0.01</td>\n",
       "    </tr>\n",
       "    <tr>\n",
       "      <th>4</th>\n",
       "      <td>tool_wear_min</td>\n",
       "      <td>0.00</td>\n",
       "      <td>251.00</td>\n",
       "      <td>251.00</td>\n",
       "      <td>108.10</td>\n",
       "      <td>108.00</td>\n",
       "      <td>63.36</td>\n",
       "      <td>0.02</td>\n",
       "      <td>-1.16</td>\n",
       "    </tr>\n",
       "  </tbody>\n",
       "</table>\n",
       "</div>"
      ],
      "text/plain": [
       "              attributes     min     max   range    mean  median    std  skew  \\\n",
       "0      air_temperature_k  295.30  304.50    9.20  299.99  300.00   1.99  0.13   \n",
       "1  process_temperature_k  305.70  313.80    8.10  309.99  310.00   1.49  0.02   \n",
       "2   rotational_speed_rpm 1168.00 2886.00 1718.00 1537.42 1503.00 177.17  1.95   \n",
       "3              torque_nm    3.80   76.60   72.80   40.06   40.20   9.95  0.01   \n",
       "4          tool_wear_min    0.00  251.00  251.00  108.10  108.00  63.36  0.02   \n",
       "\n",
       "   kurtosis  \n",
       "0     -0.82  \n",
       "1     -0.51  \n",
       "2      7.31  \n",
       "3      0.01  \n",
       "4     -1.16  "
      ]
     },
     "execution_count": 168,
     "metadata": {},
     "output_type": "execute_result"
    }
   ],
   "source": [
    "df_desc = pd.concat([df_min, df_max, df_range, df_mean, df_median, df_std, df_skew, df_kurtosis]).T.reset_index()\n",
    "df_desc.columns = ['attributes','min','max','range','mean','median','std','skew','kurtosis']\n",
    "df_desc"
   ]
  },
  {
   "attachments": {},
   "cell_type": "markdown",
   "metadata": {},
   "source": [
    "Interpretando a tabela: \n",
    "- min: é o valor mínimo registrado em cada atributo numérico.\n",
    "- max: é o valor máximo registrado em cada atributo numérico.\n",
    "- range: é o intervalo entre o valor máximo e o valor mínimo de cada atributo numérico. \n",
    "- mean: é o valor médio de cada atributo numérico. \n",
    "- median: é o valor mediano de cada atributo numérico (com os valores ordenados de forma crescente, a mediana é o valor 'do meio', também correspondendo ao 50º percentil e ao 2º quartil).\n",
    "- std: é o desvio padrão - a distância média dos valores em relação à média.\n",
    "- skew (ou skewness): representa o quanto a distribuição dos dados está assimétrica em relação à média.\n",
    "- kurtosis: representa a distribuição dos valores em torno da média, evidenciando uma distribuição de caudas longas. "
   ]
  },
  {
   "attachments": {},
   "cell_type": "markdown",
   "metadata": {},
   "source": [
    "#### 2.6.2 Atributos Categóricos"
   ]
  },
  {
   "cell_type": "code",
   "execution_count": 169,
   "metadata": {},
   "outputs": [
    {
     "data": {
      "text/html": [
       "<div>\n",
       "<style scoped>\n",
       "    .dataframe tbody tr th:only-of-type {\n",
       "        vertical-align: middle;\n",
       "    }\n",
       "\n",
       "    .dataframe tbody tr th {\n",
       "        vertical-align: top;\n",
       "    }\n",
       "\n",
       "    .dataframe thead th {\n",
       "        text-align: right;\n",
       "    }\n",
       "</style>\n",
       "<table border=\"1\" class=\"dataframe\">\n",
       "  <thead>\n",
       "    <tr style=\"text-align: right;\">\n",
       "      <th></th>\n",
       "      <th>product_id</th>\n",
       "      <th>type</th>\n",
       "      <th>failure_type</th>\n",
       "    </tr>\n",
       "  </thead>\n",
       "  <tbody>\n",
       "    <tr>\n",
       "      <th>0</th>\n",
       "      <td>M14860</td>\n",
       "      <td>M</td>\n",
       "      <td>No Failure</td>\n",
       "    </tr>\n",
       "    <tr>\n",
       "      <th>1</th>\n",
       "      <td>L47181</td>\n",
       "      <td>L</td>\n",
       "      <td>No Failure</td>\n",
       "    </tr>\n",
       "    <tr>\n",
       "      <th>2</th>\n",
       "      <td>L47184</td>\n",
       "      <td>L</td>\n",
       "      <td>No Failure</td>\n",
       "    </tr>\n",
       "    <tr>\n",
       "      <th>3</th>\n",
       "      <td>M14865</td>\n",
       "      <td>M</td>\n",
       "      <td>No Failure</td>\n",
       "    </tr>\n",
       "    <tr>\n",
       "      <th>4</th>\n",
       "      <td>L47186</td>\n",
       "      <td>L</td>\n",
       "      <td>No Failure</td>\n",
       "    </tr>\n",
       "  </tbody>\n",
       "</table>\n",
       "</div>"
      ],
      "text/plain": [
       "  product_id type failure_type\n",
       "0     M14860    M   No Failure\n",
       "1     L47181    L   No Failure\n",
       "2     L47184    L   No Failure\n",
       "3     M14865    M   No Failure\n",
       "4     L47186    L   No Failure"
      ]
     },
     "execution_count": 169,
     "metadata": {},
     "output_type": "execute_result"
    }
   ],
   "source": [
    "df1_categorical = df1.select_dtypes(exclude=['int64', 'float64'])\n",
    "df1_categorical.head()"
   ]
  },
  {
   "cell_type": "code",
   "execution_count": 170,
   "metadata": {},
   "outputs": [
    {
     "name": "stdout",
     "output_type": "stream",
     "text": [
      "Número de registros: 6667\n",
      "Número de product_ids únicos: 6667\n"
     ]
    }
   ],
   "source": [
    "print(f'Número de registros: {df1_categorical.shape[0]}')\n",
    "print('Número de product_ids únicos: {}'.format(df1_categorical['product_id'].nunique()))"
   ]
  },
  {
   "attachments": {},
   "cell_type": "markdown",
   "metadata": {},
   "source": [
    "Aqui podemos ver que cada registro do conjunto de dados corresponde a um produto com id único."
   ]
  },
  {
   "cell_type": "code",
   "execution_count": 171,
   "metadata": {},
   "outputs": [
    {
     "data": {
      "text/plain": [
       "L    4022\n",
       "M    1987\n",
       "H     658\n",
       "Name: type, dtype: int64"
      ]
     },
     "execution_count": 171,
     "metadata": {},
     "output_type": "execute_result"
    }
   ],
   "source": [
    "df1_categorical['type'].value_counts()"
   ]
  },
  {
   "attachments": {},
   "cell_type": "markdown",
   "metadata": {},
   "source": [
    "Aqui já podemos ver que temos mais produtos do tipo 'L' e menos produtos do tipo 'H' sendo manufaturados."
   ]
  },
  {
   "cell_type": "code",
   "execution_count": 172,
   "metadata": {},
   "outputs": [
    {
     "data": {
      "text/plain": [
       "No Failure                  6435\n",
       "Heat Dissipation Failure      75\n",
       "Power Failure                 63\n",
       "Overstrain Failure            52\n",
       "Tool Wear Failure             30\n",
       "Random Failures               12\n",
       "Name: failure_type, dtype: int64"
      ]
     },
     "execution_count": 172,
     "metadata": {},
     "output_type": "execute_result"
    }
   ],
   "source": [
    "df1_categorical['failure_type'].value_counts()"
   ]
  },
  {
   "attachments": {},
   "cell_type": "markdown",
   "metadata": {},
   "source": [
    "Por fim, quanto à variável alvo, a gigantesca maioria dos processos de produção dos produtos não houve falha. \n",
    "\n",
    "Isso pode configurar um problema de desbalanceamento de classes na etapa posterior de Machine Learning."
   ]
  },
  {
   "attachments": {},
   "cell_type": "markdown",
   "metadata": {},
   "source": [
    "## 3. Análise Exploratória dos Dados"
   ]
  },
  {
   "cell_type": "code",
   "execution_count": 173,
   "metadata": {},
   "outputs": [],
   "source": [
    "df2 = df1.copy()"
   ]
  },
  {
   "attachments": {},
   "cell_type": "markdown",
   "metadata": {},
   "source": [
    "### 3.1 Análise Univariada"
   ]
  },
  {
   "attachments": {},
   "cell_type": "markdown",
   "metadata": {},
   "source": [
    "#### 3.1.1 Variável Resposta"
   ]
  },
  {
   "cell_type": "code",
   "execution_count": 174,
   "metadata": {},
   "outputs": [
    {
     "data": {
      "image/png": "[encoded data removed]",
      "text/plain": [
       "<Figure size 1200x600 with 1 Axes>"
      ]
     },
     "metadata": {},
     "output_type": "display_data"
    }
   ],
   "source": [
    "a = sns.countplot(x='failure_type', data=df2)\n",
    "values = df2['failure_type'].value_counts().values\n",
    "a.bar_label(container=a.containers[0], labels=values)\n",
    "a.set(ylabel=None);"
   ]
  },
  {
   "attachments": {},
   "cell_type": "markdown",
   "metadata": {},
   "source": [
    "Conforme já dito acima, esse desbalanceamento de classes pode afetar a etapa posterior de Machine Learning."
   ]
  },
  {
   "attachments": {},
   "cell_type": "markdown",
   "metadata": {},
   "source": [
    "#### 3.1.2 Variáveis Numéricas"
   ]
  },
  {
   "cell_type": "code",
   "execution_count": 175,
   "metadata": {},
   "outputs": [
    {
     "data": {
      "image/png": "[encoded data removed]",
      "text/plain": [
       "<Figure size 1200x600 with 6 Axes>"
      ]
     },
     "metadata": {},
     "output_type": "display_data"
    }
   ],
   "source": [
    "df1_numerical.hist(bins=50);"
   ]
  },
  {
   "attachments": {},
   "cell_type": "markdown",
   "metadata": {},
   "source": [
    "Aqui podemos ter uma noção geral de distribuição de valores das variáveis numéricas. \n",
    "\n",
    "Por exemplo, a variável *torque_nm* apresenta uma distribuição praticamente normal, o que devemos levar em conta na etapa posterior de Preparação dos Dados. "
   ]
  },
  {
   "attachments": {},
   "cell_type": "markdown",
   "metadata": {},
   "source": [
    "#### 3.1.3 Variáveis Categóricas"
   ]
  },
  {
   "cell_type": "code",
   "execution_count": 176,
   "metadata": {},
   "outputs": [
    {
     "data": {
      "image/png": "[encoded data removed]",
      "text/plain": [
       "<Figure size 1200x600 with 1 Axes>"
      ]
     },
     "metadata": {},
     "output_type": "display_data"
    }
   ],
   "source": [
    "a = sns.countplot(x='type', data=df2)\n",
    "values = df2['type'].value_counts().values\n",
    "a.bar_label(container=a.containers[0], labels=values)\n",
    "a.set(ylabel=None);"
   ]
  },
  {
   "attachments": {},
   "cell_type": "markdown",
   "metadata": {},
   "source": [
    "Aqui é só uma representação gráfica daquilo que já foi exposto acima, de que a maioria dos produtos produzidos pelas máquinas são do tipo 'L', e a minoria são do tipo 'H'."
   ]
  },
  {
   "attachments": {},
   "cell_type": "markdown",
   "metadata": {},
   "source": [
    "### 3.2 Análise Bivariada - Validação de Hipóteses"
   ]
  },
  {
   "attachments": {},
   "cell_type": "markdown",
   "metadata": {},
   "source": [
    "Nessa etapa, vou criar algumas hipóteses para serem validadas, tendo como base os dados disponíveis e alguns atributos do conjunto de dados, com o objetivo de extrair alguma informação ou *insight*. "
   ]
  },
  {
   "attachments": {},
   "cell_type": "markdown",
   "metadata": {},
   "source": [
    "Hipóteses: \n",
    "- H1: Em comparação com os tipos de produtos 'L' e 'M', a produção de produtos do tipo 'H' acarreta em mais falhas.\n",
    "- H2: Processos que exigem temperaturas mais altas fazem com que as máquinas falhem mais. \n",
    "- H3: Processos que exigem mais RPM fazem com que as máquinas falhem mais. "
   ]
  },
  {
   "attachments": {},
   "cell_type": "markdown",
   "metadata": {},
   "source": [
    "#### H1. Em comparação com os tipos de produtos 'L' e 'M', a produção de produtos do tipo 'H' acarreta em mais falhas."
   ]
  },
  {
   "cell_type": "code",
   "execution_count": 177,
   "metadata": {},
   "outputs": [],
   "source": [
    "h1_df = df2.copy()"
   ]
  },
  {
   "cell_type": "code",
   "execution_count": 178,
   "metadata": {},
   "outputs": [
    {
     "data": {
      "text/plain": [
       "L   0.60\n",
       "M   0.30\n",
       "H   0.10\n",
       "Name: type, dtype: float64"
      ]
     },
     "execution_count": 178,
     "metadata": {},
     "output_type": "execute_result"
    }
   ],
   "source": [
    "h1_df['type'].value_counts(normalize=True)"
   ]
  },
  {
   "attachments": {},
   "cell_type": "markdown",
   "metadata": {},
   "source": [
    "Primeiro temos que levar em consideração que existem produtos do tipo 'H' no conjunto de dados, representando apenas 10% dos registros.\n",
    "\n",
    "Assim, uma forma de validarmos essa hipótese é verificar a porcentagem de falhas em relação ao total de processos para cada tipo de produto."
   ]
  },
  {
   "cell_type": "code",
   "execution_count": 179,
   "metadata": {},
   "outputs": [
    {
     "data": {
      "text/html": [
       "<div>\n",
       "<style scoped>\n",
       "    .dataframe tbody tr th:only-of-type {\n",
       "        vertical-align: middle;\n",
       "    }\n",
       "\n",
       "    .dataframe tbody tr th {\n",
       "        vertical-align: top;\n",
       "    }\n",
       "\n",
       "    .dataframe thead th {\n",
       "        text-align: right;\n",
       "    }\n",
       "</style>\n",
       "<table border=\"1\" class=\"dataframe\">\n",
       "  <thead>\n",
       "    <tr style=\"text-align: right;\">\n",
       "      <th></th>\n",
       "      <th>udi</th>\n",
       "      <th>product_id</th>\n",
       "      <th>type</th>\n",
       "      <th>air_temperature_k</th>\n",
       "      <th>process_temperature_k</th>\n",
       "      <th>rotational_speed_rpm</th>\n",
       "      <th>torque_nm</th>\n",
       "      <th>tool_wear_min</th>\n",
       "      <th>failure_type</th>\n",
       "      <th>result</th>\n",
       "    </tr>\n",
       "  </thead>\n",
       "  <tbody>\n",
       "    <tr>\n",
       "      <th>2397</th>\n",
       "      <td>3564</td>\n",
       "      <td>M18423</td>\n",
       "      <td>M</td>\n",
       "      <td>301.80</td>\n",
       "      <td>310.70</td>\n",
       "      <td>1465</td>\n",
       "      <td>35.80</td>\n",
       "      <td>82</td>\n",
       "      <td>No Failure</td>\n",
       "      <td>no_failure</td>\n",
       "    </tr>\n",
       "  </tbody>\n",
       "</table>\n",
       "</div>"
      ],
      "text/plain": [
       "       udi product_id type  air_temperature_k  process_temperature_k  \\\n",
       "2397  3564     M18423    M             301.80                 310.70   \n",
       "\n",
       "      rotational_speed_rpm  torque_nm  tool_wear_min failure_type      result  \n",
       "2397                  1465      35.80             82   No Failure  no_failure  "
      ]
     },
     "execution_count": 179,
     "metadata": {},
     "output_type": "execute_result"
    }
   ],
   "source": [
    "h1_df['result'] = h1_df.apply(lambda x: 'no_failure' if x['failure_type'] == 'No Failure' else 'failure', axis=1)\n",
    "h1_df.sample()"
   ]
  },
  {
   "cell_type": "code",
   "execution_count": 180,
   "metadata": {},
   "outputs": [
    {
     "data": {
      "text/html": [
       "<div>\n",
       "<style scoped>\n",
       "    .dataframe tbody tr th:only-of-type {\n",
       "        vertical-align: middle;\n",
       "    }\n",
       "\n",
       "    .dataframe tbody tr th {\n",
       "        vertical-align: top;\n",
       "    }\n",
       "\n",
       "    .dataframe thead th {\n",
       "        text-align: right;\n",
       "    }\n",
       "</style>\n",
       "<table border=\"1\" class=\"dataframe\">\n",
       "  <thead>\n",
       "    <tr style=\"text-align: right;\">\n",
       "      <th></th>\n",
       "      <th>type</th>\n",
       "      <th>failure_rate (%)</th>\n",
       "    </tr>\n",
       "  </thead>\n",
       "  <tbody>\n",
       "    <tr>\n",
       "      <th>0</th>\n",
       "      <td>L</td>\n",
       "      <td>4.17</td>\n",
       "    </tr>\n",
       "    <tr>\n",
       "      <th>0</th>\n",
       "      <td>M</td>\n",
       "      <td>2.79</td>\n",
       "    </tr>\n",
       "    <tr>\n",
       "      <th>0</th>\n",
       "      <td>H</td>\n",
       "      <td>2.65</td>\n",
       "    </tr>\n",
       "  </tbody>\n",
       "</table>\n",
       "</div>"
      ],
      "text/plain": [
       "  type  failure_rate (%)\n",
       "0    L              4.17\n",
       "0    M              2.79\n",
       "0    H              2.65"
      ]
     },
     "execution_count": 180,
     "metadata": {},
     "output_type": "execute_result"
    }
   ],
   "source": [
    "df_result = failure_rate(h1_df, 'type')\n",
    "df_result"
   ]
  },
  {
   "cell_type": "code",
   "execution_count": 181,
   "metadata": {},
   "outputs": [
    {
     "data": {
      "image/png": "[encoded data removed]",
      "text/plain": [
       "<Figure size 1200x600 with 1 Axes>"
      ]
     },
     "metadata": {},
     "output_type": "display_data"
    }
   ],
   "source": [
    "a = sns.barplot(data = df_result, x='type', y='failure_rate (%)')\n",
    "values = df_result['failure_rate (%)'].values.round(2)\n",
    "a.bar_label(container=a.containers[0], labels=values)\n",
    "a.set(ylabel=None);"
   ]
  },
  {
   "attachments": {},
   "cell_type": "markdown",
   "metadata": {},
   "source": [
    "**FALSA**: a produção de produtos do tipo 'L', proporcionalmente, acarretam em mais falhas nas máquinas."
   ]
  },
  {
   "attachments": {},
   "cell_type": "markdown",
   "metadata": {},
   "source": [
    "#### H2. Processos que exigem temperaturas mais altas fazem com que as máquinas falhem mais. "
   ]
  },
  {
   "cell_type": "code",
   "execution_count": 182,
   "metadata": {},
   "outputs": [],
   "source": [
    "h2_df = df2.copy()"
   ]
  },
  {
   "cell_type": "code",
   "execution_count": 183,
   "metadata": {},
   "outputs": [
    {
     "data": {
      "text/plain": [
       "count   6667.00\n",
       "mean     309.99\n",
       "std        1.49\n",
       "min      305.70\n",
       "25%      308.80\n",
       "50%      310.00\n",
       "75%      311.10\n",
       "max      313.80\n",
       "Name: process_temperature_k, dtype: float64"
      ]
     },
     "execution_count": 183,
     "metadata": {},
     "output_type": "execute_result"
    }
   ],
   "source": [
    "h2_df['process_temperature_k'].describe()"
   ]
  },
  {
   "attachments": {},
   "cell_type": "markdown",
   "metadata": {},
   "source": [
    "Aqui podemos ver que a temperatura dos processos variam entre 305.70 e 313.80. \n",
    "\n",
    "A mediana está em 310.00, então vou considerar como temperatura alta valores que estiverem acima dessa medida.\n",
    "\n",
    "E da mesma forma que na hipótese anterior, vou verificar a porcentagem de falhas em relação ao total de processos para cada temperatura (alta ou baixa). "
   ]
  },
  {
   "cell_type": "code",
   "execution_count": 184,
   "metadata": {},
   "outputs": [
    {
     "data": {
      "text/html": [
       "<div>\n",
       "<style scoped>\n",
       "    .dataframe tbody tr th:only-of-type {\n",
       "        vertical-align: middle;\n",
       "    }\n",
       "\n",
       "    .dataframe tbody tr th {\n",
       "        vertical-align: top;\n",
       "    }\n",
       "\n",
       "    .dataframe thead th {\n",
       "        text-align: right;\n",
       "    }\n",
       "</style>\n",
       "<table border=\"1\" class=\"dataframe\">\n",
       "  <thead>\n",
       "    <tr style=\"text-align: right;\">\n",
       "      <th></th>\n",
       "      <th>udi</th>\n",
       "      <th>product_id</th>\n",
       "      <th>type</th>\n",
       "      <th>air_temperature_k</th>\n",
       "      <th>process_temperature_k</th>\n",
       "      <th>rotational_speed_rpm</th>\n",
       "      <th>torque_nm</th>\n",
       "      <th>tool_wear_min</th>\n",
       "      <th>failure_type</th>\n",
       "      <th>result</th>\n",
       "      <th>process_temp</th>\n",
       "    </tr>\n",
       "  </thead>\n",
       "  <tbody>\n",
       "    <tr>\n",
       "      <th>4364</th>\n",
       "      <td>6549</td>\n",
       "      <td>L53728</td>\n",
       "      <td>L</td>\n",
       "      <td>301.40</td>\n",
       "      <td>310.80</td>\n",
       "      <td>1770</td>\n",
       "      <td>24.10</td>\n",
       "      <td>112</td>\n",
       "      <td>No Failure</td>\n",
       "      <td>no_failure</td>\n",
       "      <td>high</td>\n",
       "    </tr>\n",
       "  </tbody>\n",
       "</table>\n",
       "</div>"
      ],
      "text/plain": [
       "       udi product_id type  air_temperature_k  process_temperature_k  \\\n",
       "4364  6549     L53728    L             301.40                 310.80   \n",
       "\n",
       "      rotational_speed_rpm  torque_nm  tool_wear_min failure_type      result  \\\n",
       "4364                  1770      24.10            112   No Failure  no_failure   \n",
       "\n",
       "     process_temp  \n",
       "4364         high  "
      ]
     },
     "execution_count": 184,
     "metadata": {},
     "output_type": "execute_result"
    }
   ],
   "source": [
    "h2_df['result'] = h2_df.apply(lambda x: 'no_failure' if x['failure_type'] == 'No Failure' else 'failure', axis=1)\n",
    "h2_df['process_temp'] = h2_df.apply(lambda x: 'high' if x['process_temperature_k'] > 310 else 'low', axis=1)\n",
    "h2_df.sample()"
   ]
  },
  {
   "cell_type": "code",
   "execution_count": 185,
   "metadata": {},
   "outputs": [
    {
     "data": {
      "text/html": [
       "<div>\n",
       "<style scoped>\n",
       "    .dataframe tbody tr th:only-of-type {\n",
       "        vertical-align: middle;\n",
       "    }\n",
       "\n",
       "    .dataframe tbody tr th {\n",
       "        vertical-align: top;\n",
       "    }\n",
       "\n",
       "    .dataframe thead th {\n",
       "        text-align: right;\n",
       "    }\n",
       "</style>\n",
       "<table border=\"1\" class=\"dataframe\">\n",
       "  <thead>\n",
       "    <tr style=\"text-align: right;\">\n",
       "      <th></th>\n",
       "      <th>process_temp</th>\n",
       "      <th>failure_rate (%)</th>\n",
       "    </tr>\n",
       "  </thead>\n",
       "  <tbody>\n",
       "    <tr>\n",
       "      <th>0</th>\n",
       "      <td>high</td>\n",
       "      <td>4.82</td>\n",
       "    </tr>\n",
       "    <tr>\n",
       "      <th>0</th>\n",
       "      <td>low</td>\n",
       "      <td>2.42</td>\n",
       "    </tr>\n",
       "  </tbody>\n",
       "</table>\n",
       "</div>"
      ],
      "text/plain": [
       "  process_temp  failure_rate (%)\n",
       "0         high              4.82\n",
       "0          low              2.42"
      ]
     },
     "execution_count": 185,
     "metadata": {},
     "output_type": "execute_result"
    }
   ],
   "source": [
    "df_result = failure_rate(h2_df, 'process_temp')\n",
    "df_result"
   ]
  },
  {
   "cell_type": "code",
   "execution_count": 186,
   "metadata": {},
   "outputs": [
    {
     "data": {
      "image/png": "[encoded data removed]",
      "text/plain": [
       "<Figure size 1200x600 with 1 Axes>"
      ]
     },
     "metadata": {},
     "output_type": "display_data"
    }
   ],
   "source": [
    "a = sns.barplot(data = df_result, x='process_temp', y='failure_rate (%)')\n",
    "values = df_result['failure_rate (%)'].values.round(2)\n",
    "a.bar_label(container=a.containers[0], labels=values)\n",
    "a.set(ylabel=None);"
   ]
  },
  {
   "attachments": {},
   "cell_type": "markdown",
   "metadata": {},
   "source": [
    "**VERDADEIRA**: a produção de produtos que exigem uma temperatura mais alta (acima de 310.00 K), acarretam em mais falhas nas máquinas."
   ]
  },
  {
   "attachments": {},
   "cell_type": "markdown",
   "metadata": {},
   "source": [
    "#### H3. Processos que exigem mais RPM fazem com que as máquinas falhem mais. "
   ]
  },
  {
   "cell_type": "code",
   "execution_count": 187,
   "metadata": {},
   "outputs": [],
   "source": [
    "h3_df = df2.copy()"
   ]
  },
  {
   "cell_type": "code",
   "execution_count": 188,
   "metadata": {},
   "outputs": [
    {
     "data": {
      "text/plain": [
       "count   6667.00\n",
       "mean    1537.42\n",
       "std      177.18\n",
       "min     1168.00\n",
       "25%     1422.50\n",
       "50%     1503.00\n",
       "75%     1612.00\n",
       "max     2886.00\n",
       "Name: rotational_speed_rpm, dtype: float64"
      ]
     },
     "execution_count": 188,
     "metadata": {},
     "output_type": "execute_result"
    }
   ],
   "source": [
    "h3_df['rotational_speed_rpm'].describe()"
   ]
  },
  {
   "attachments": {},
   "cell_type": "markdown",
   "metadata": {},
   "source": [
    "Aqui podemos ver que a rotação por minuto dos processos variam entre 1168.00 e 2886.00.\n",
    "\n",
    "A mediana está em 1503.00, então vou considerar como RPM alta valores que estiverem acima dessa medida.\n",
    "\n",
    "E da mesma forma que nas hipóteses anteriores, vou verificar a porcentagem de falhas em relação ao total de processos para RPM (alta ou baixa). "
   ]
  },
  {
   "cell_type": "code",
   "execution_count": 189,
   "metadata": {},
   "outputs": [
    {
     "data": {
      "text/html": [
       "<div>\n",
       "<style scoped>\n",
       "    .dataframe tbody tr th:only-of-type {\n",
       "        vertical-align: middle;\n",
       "    }\n",
       "\n",
       "    .dataframe tbody tr th {\n",
       "        vertical-align: top;\n",
       "    }\n",
       "\n",
       "    .dataframe thead th {\n",
       "        text-align: right;\n",
       "    }\n",
       "</style>\n",
       "<table border=\"1\" class=\"dataframe\">\n",
       "  <thead>\n",
       "    <tr style=\"text-align: right;\">\n",
       "      <th></th>\n",
       "      <th>udi</th>\n",
       "      <th>product_id</th>\n",
       "      <th>type</th>\n",
       "      <th>air_temperature_k</th>\n",
       "      <th>process_temperature_k</th>\n",
       "      <th>rotational_speed_rpm</th>\n",
       "      <th>torque_nm</th>\n",
       "      <th>tool_wear_min</th>\n",
       "      <th>failure_type</th>\n",
       "      <th>result</th>\n",
       "      <th>rotational_speed</th>\n",
       "    </tr>\n",
       "  </thead>\n",
       "  <tbody>\n",
       "    <tr>\n",
       "      <th>3169</th>\n",
       "      <td>4736</td>\n",
       "      <td>L51915</td>\n",
       "      <td>L</td>\n",
       "      <td>303.20</td>\n",
       "      <td>311.50</td>\n",
       "      <td>1544</td>\n",
       "      <td>42.50</td>\n",
       "      <td>227</td>\n",
       "      <td>No Failure</td>\n",
       "      <td>no_failure</td>\n",
       "      <td>high</td>\n",
       "    </tr>\n",
       "  </tbody>\n",
       "</table>\n",
       "</div>"
      ],
      "text/plain": [
       "       udi product_id type  air_temperature_k  process_temperature_k  \\\n",
       "3169  4736     L51915    L             303.20                 311.50   \n",
       "\n",
       "      rotational_speed_rpm  torque_nm  tool_wear_min failure_type      result  \\\n",
       "3169                  1544      42.50            227   No Failure  no_failure   \n",
       "\n",
       "     rotational_speed  \n",
       "3169             high  "
      ]
     },
     "execution_count": 189,
     "metadata": {},
     "output_type": "execute_result"
    }
   ],
   "source": [
    "h3_df['result'] = h3_df.apply(lambda x: 'no_failure' if x['failure_type'] == 'No Failure' else 'failure', axis=1)\n",
    "h3_df['rotational_speed'] = h3_df.apply(lambda x: 'high' if x['rotational_speed_rpm'] > 1503 else 'low', axis=1)\n",
    "h3_df.sample()"
   ]
  },
  {
   "cell_type": "code",
   "execution_count": 190,
   "metadata": {},
   "outputs": [
    {
     "data": {
      "text/html": [
       "<div>\n",
       "<style scoped>\n",
       "    .dataframe tbody tr th:only-of-type {\n",
       "        vertical-align: middle;\n",
       "    }\n",
       "\n",
       "    .dataframe tbody tr th {\n",
       "        vertical-align: top;\n",
       "    }\n",
       "\n",
       "    .dataframe thead th {\n",
       "        text-align: right;\n",
       "    }\n",
       "</style>\n",
       "<table border=\"1\" class=\"dataframe\">\n",
       "  <thead>\n",
       "    <tr style=\"text-align: right;\">\n",
       "      <th></th>\n",
       "      <th>rotational_speed</th>\n",
       "      <th>failure_rate (%)</th>\n",
       "    </tr>\n",
       "  </thead>\n",
       "  <tbody>\n",
       "    <tr>\n",
       "      <th>0</th>\n",
       "      <td>low</td>\n",
       "      <td>5.97</td>\n",
       "    </tr>\n",
       "    <tr>\n",
       "      <th>0</th>\n",
       "      <td>high</td>\n",
       "      <td>1.34</td>\n",
       "    </tr>\n",
       "  </tbody>\n",
       "</table>\n",
       "</div>"
      ],
      "text/plain": [
       "  rotational_speed  failure_rate (%)\n",
       "0              low              5.97\n",
       "0             high              1.34"
      ]
     },
     "execution_count": 190,
     "metadata": {},
     "output_type": "execute_result"
    }
   ],
   "source": [
    "df_result = failure_rate(h3_df, 'rotational_speed')\n",
    "df_result"
   ]
  },
  {
   "cell_type": "code",
   "execution_count": 191,
   "metadata": {},
   "outputs": [
    {
     "data": {
      "image/png": "[encoded data removed]",
      "text/plain": [
       "<Figure size 1200x600 with 1 Axes>"
      ]
     },
     "metadata": {},
     "output_type": "display_data"
    }
   ],
   "source": [
    "a = sns.barplot(data = df_result, x='rotational_speed', y='failure_rate (%)')\n",
    "values = df_result['failure_rate (%)'].values.round(2)\n",
    "a.bar_label(container=a.containers[0], labels=values)\n",
    "a.set(ylabel=None);"
   ]
  },
  {
   "attachments": {},
   "cell_type": "markdown",
   "metadata": {},
   "source": [
    "**FALSA**: a produção de produtos que exigem RPM mais alta (acima de 1503.00 RPM), acarretam em menos falhas nas máquinas. "
   ]
  },
  {
   "attachments": {},
   "cell_type": "markdown",
   "metadata": {},
   "source": [
    "#### Resumo das Hipóteses"
   ]
  },
  {
   "attachments": {},
   "cell_type": "markdown",
   "metadata": {},
   "source": [
    "| Número |                         Hipótese                                                                              |   Conclusão   |\n",
    "| :----: | :-----------------------------------------------------------------------------------------------------------: | :-----------: |\n",
    "| H1     | Em comparação com os tipos de produtos 'L' e 'M', a produção de produtos do tipo 'H' acarreta em mais falhas. | FALSA |\n",
    "| H2     | Processos que exigem temperaturas mais altas fazem com que as máquinas falhem mais.                           | VERDADEIRA |\n",
    "| H3     | Processos que exigem mais RPM fazem com que as máquinas falhem mais.                                          | FALSA |"
   ]
  },
  {
   "attachments": {},
   "cell_type": "markdown",
   "metadata": {},
   "source": [
    "### 3.3 Análise Multivariada"
   ]
  },
  {
   "attachments": {},
   "cell_type": "markdown",
   "metadata": {},
   "source": [
    "#### 3.3.1 Variáveis Numéricas"
   ]
  },
  {
   "cell_type": "code",
   "execution_count": 192,
   "metadata": {},
   "outputs": [
    {
     "data": {
      "image/png": "[encoded data removed]",
      "text/plain": [
       "<Figure size 1200x600 with 2 Axes>"
      ]
     },
     "metadata": {},
     "output_type": "display_data"
    }
   ],
   "source": [
    "correlation = df1_numerical.corr(method='pearson')\n",
    "sns.heatmap(correlation, annot=True);"
   ]
  },
  {
   "attachments": {},
   "cell_type": "markdown",
   "metadata": {},
   "source": [
    "Aqui temos uma matriz de correlação entre as variáveis numéricas, com valores indo de 1 (variáveis positivamente relacionadas) a -1 (variáveis negativamente relacionadas). \n",
    "\n",
    "Podemos ver que as variáveis *process_temperature_k* e *air_temperature_k* são positivamente relacionadas, enquanto as variáveis *torque_nm* e *rotational_speed_rpm* são negativamente relacionadas."
   ]
  },
  {
   "attachments": {},
   "cell_type": "markdown",
   "metadata": {},
   "source": [
    "## 4. Preparação dos Dados"
   ]
  },
  {
   "cell_type": "code",
   "execution_count": 193,
   "metadata": {},
   "outputs": [],
   "source": [
    "df3 = df2.copy()"
   ]
  },
  {
   "attachments": {},
   "cell_type": "markdown",
   "metadata": {},
   "source": [
    "### 4.1 Separando o Conjunto de Dados"
   ]
  },
  {
   "attachments": {},
   "cell_type": "markdown",
   "metadata": {},
   "source": [
    "Primeiro de tudo, vou separar o conjunto de dados entre Treino e Validação. Isso evita eventual vazamento de dados ('passagem' de informações do conjunto de Dados para o de Validação).\n",
    "\n",
    "Os dados de Treino servirão de base para treino dos algoritmos de ML, enquanto os de Validação servirão para medir a performance do algoritmo."
   ]
  },
  {
   "cell_type": "code",
   "execution_count": 194,
   "metadata": {},
   "outputs": [],
   "source": [
    "x = df3.drop('failure_type', axis=1)\n",
    "y = df3['failure_type'].copy()"
   ]
  },
  {
   "attachments": {},
   "cell_type": "markdown",
   "metadata": {},
   "source": [
    "Vou usar uma função da biblioteca *sklearn* para fazer essa separação dos dados."
   ]
  },
  {
   "cell_type": "code",
   "execution_count": 195,
   "metadata": {},
   "outputs": [],
   "source": [
    "x_train, x_validation, y_train, y_validation = train_test_split(x, y, test_size=0.20)"
   ]
  },
  {
   "cell_type": "code",
   "execution_count": 196,
   "metadata": {},
   "outputs": [
    {
     "data": {
      "text/html": [
       "<div>\n",
       "<style scoped>\n",
       "    .dataframe tbody tr th:only-of-type {\n",
       "        vertical-align: middle;\n",
       "    }\n",
       "\n",
       "    .dataframe tbody tr th {\n",
       "        vertical-align: top;\n",
       "    }\n",
       "\n",
       "    .dataframe thead th {\n",
       "        text-align: right;\n",
       "    }\n",
       "</style>\n",
       "<table border=\"1\" class=\"dataframe\">\n",
       "  <thead>\n",
       "    <tr style=\"text-align: right;\">\n",
       "      <th></th>\n",
       "      <th>udi</th>\n",
       "      <th>product_id</th>\n",
       "      <th>type</th>\n",
       "      <th>air_temperature_k</th>\n",
       "      <th>process_temperature_k</th>\n",
       "      <th>rotational_speed_rpm</th>\n",
       "      <th>torque_nm</th>\n",
       "      <th>tool_wear_min</th>\n",
       "      <th>failure_type</th>\n",
       "    </tr>\n",
       "  </thead>\n",
       "  <tbody>\n",
       "    <tr>\n",
       "      <th>4433</th>\n",
       "      <td>6651</td>\n",
       "      <td>L53830</td>\n",
       "      <td>L</td>\n",
       "      <td>301.60</td>\n",
       "      <td>310.40</td>\n",
       "      <td>1561</td>\n",
       "      <td>35.30</td>\n",
       "      <td>156</td>\n",
       "      <td>No Failure</td>\n",
       "    </tr>\n",
       "    <tr>\n",
       "      <th>3685</th>\n",
       "      <td>5512</td>\n",
       "      <td>L52691</td>\n",
       "      <td>L</td>\n",
       "      <td>302.80</td>\n",
       "      <td>312.10</td>\n",
       "      <td>1958</td>\n",
       "      <td>20.30</td>\n",
       "      <td>56</td>\n",
       "      <td>No Failure</td>\n",
       "    </tr>\n",
       "    <tr>\n",
       "      <th>1770</th>\n",
       "      <td>2642</td>\n",
       "      <td>H32055</td>\n",
       "      <td>H</td>\n",
       "      <td>299.80</td>\n",
       "      <td>309.50</td>\n",
       "      <td>1420</td>\n",
       "      <td>46.70</td>\n",
       "      <td>136</td>\n",
       "      <td>No Failure</td>\n",
       "    </tr>\n",
       "    <tr>\n",
       "      <th>2802</th>\n",
       "      <td>4183</td>\n",
       "      <td>L51362</td>\n",
       "      <td>L</td>\n",
       "      <td>302.40</td>\n",
       "      <td>310.70</td>\n",
       "      <td>1362</td>\n",
       "      <td>54.80</td>\n",
       "      <td>155</td>\n",
       "      <td>Heat Dissipation Failure</td>\n",
       "    </tr>\n",
       "    <tr>\n",
       "      <th>5218</th>\n",
       "      <td>7838</td>\n",
       "      <td>L55017</td>\n",
       "      <td>L</td>\n",
       "      <td>300.20</td>\n",
       "      <td>311.50</td>\n",
       "      <td>1685</td>\n",
       "      <td>31.00</td>\n",
       "      <td>193</td>\n",
       "      <td>No Failure</td>\n",
       "    </tr>\n",
       "  </tbody>\n",
       "</table>\n",
       "</div>"
      ],
      "text/plain": [
       "       udi product_id type  air_temperature_k  process_temperature_k  \\\n",
       "4433  6651     L53830    L             301.60                 310.40   \n",
       "3685  5512     L52691    L             302.80                 312.10   \n",
       "1770  2642     H32055    H             299.80                 309.50   \n",
       "2802  4183     L51362    L             302.40                 310.70   \n",
       "5218  7838     L55017    L             300.20                 311.50   \n",
       "\n",
       "      rotational_speed_rpm  torque_nm  tool_wear_min              failure_type  \n",
       "4433                  1561      35.30            156                No Failure  \n",
       "3685                  1958      20.30             56                No Failure  \n",
       "1770                  1420      46.70            136                No Failure  \n",
       "2802                  1362      54.80            155  Heat Dissipation Failure  \n",
       "5218                  1685      31.00            193                No Failure  "
      ]
     },
     "execution_count": 196,
     "metadata": {},
     "output_type": "execute_result"
    }
   ],
   "source": [
    "df_train = pd.concat([x_train, y_train], axis=1)\n",
    "df_train.head()"
   ]
  },
  {
   "cell_type": "code",
   "execution_count": 197,
   "metadata": {},
   "outputs": [
    {
     "name": "stdout",
     "output_type": "stream",
     "text": [
      "(5333, 8) (5333,)\n",
      "(1334, 8) (1334,)\n"
     ]
    }
   ],
   "source": [
    "print(x_train.shape, y_train.shape)\n",
    "print(x_validation.shape, y_validation.shape)"
   ]
  },
  {
   "attachments": {},
   "cell_type": "markdown",
   "metadata": {},
   "source": [
    "Aqui podemos ver quantos registros estão em cada conjunto de dados (Treino e Validação).\n",
    "\n",
    "Feita a 'divisão' do conjunto de dados, hora de ajustar os dados para a fase de Machine Learning."
   ]
  },
  {
   "attachments": {},
   "cell_type": "markdown",
   "metadata": {},
   "source": [
    "### 4.2 Normalização"
   ]
  },
  {
   "attachments": {},
   "cell_type": "markdown",
   "metadata": {},
   "source": [
    "#### 4.2.1 *torque_nm*"
   ]
  },
  {
   "cell_type": "code",
   "execution_count": 200,
   "metadata": {},
   "outputs": [
    {
     "data": {
      "image/png": "[encoded data removed]",
      "text/plain": [
       "<Figure size 1200x600 with 1 Axes>"
      ]
     },
     "metadata": {},
     "output_type": "display_data"
    }
   ],
   "source": [
    "df_train['torque_nm'].hist(bins=25);"
   ]
  },
  {
   "attachments": {},
   "cell_type": "markdown",
   "metadata": {},
   "source": [
    "Como já visto anteriormente, essa variável possui uma distribuição normal, de modo que vou submetê-la ao procedimento de Normalização (*Standardization*). \n",
    "\n",
    "Esse procedimento reescala a média dos valores para 0 com desvio-padrão igual a 1."
   ]
  },
  {
   "cell_type": "code",
   "execution_count": 201,
   "metadata": {},
   "outputs": [
    {
     "data": {
      "text/plain": [
       "4433   -0.49\n",
       "3685   -2.00\n",
       "1770    0.66\n",
       "2802    1.47\n",
       "5218   -0.92\n",
       "Name: torque_nm, dtype: float64"
      ]
     },
     "execution_count": 201,
     "metadata": {},
     "output_type": "execute_result"
    }
   ],
   "source": [
    "ss_torque = StandardScaler()\n",
    "df_train['torque_nm'] = ss_torque.fit_transform(df_train[['torque_nm']].values)\n",
    "df_train['torque_nm'].head()"
   ]
  },
  {
   "attachments": {},
   "cell_type": "markdown",
   "metadata": {},
   "source": [
    "### 4.3 *Rescaling*"
   ]
  },
  {
   "attachments": {},
   "cell_type": "markdown",
   "metadata": {},
   "source": [
    "Para verificar que procedimentos vou utilizar para as outra variáveis numéricas, vou visualizar a distribuição dos valores de cada uma através de um boxplot."
   ]
  },
  {
   "cell_type": "code",
   "execution_count": 202,
   "metadata": {},
   "outputs": [
    {
     "data": {
      "image/png": "[encoded data removed]",
      "text/plain": [
       "<Figure size 1200x600 with 4 Axes>"
      ]
     },
     "metadata": {},
     "output_type": "display_data"
    }
   ],
   "source": [
    "plt.subplot(4, 1, 1)\n",
    "sns.boxplot(data=df_train, x='air_temperature_k')\n",
    "\n",
    "plt.subplot(4, 1, 2)\n",
    "sns.boxplot(data=df_train, x='process_temperature_k')\n",
    "\n",
    "plt.subplot(4, 1, 3)\n",
    "sns.boxplot(data=df_train, x='rotational_speed_rpm')\n",
    "\n",
    "plt.subplot(4, 1, 4)\n",
    "sns.boxplot(data=df_train, x='tool_wear_min')\n",
    "\n",
    "plt.tight_layout();"
   ]
  },
  {
   "attachments": {},
   "cell_type": "markdown",
   "metadata": {},
   "source": [
    "#### 4.3.1 *air_temperature_k*"
   ]
  },
  {
   "attachments": {},
   "cell_type": "markdown",
   "metadata": {},
   "source": [
    "Essa variável não contém outliers (pontos fora das extremidades, ou *whiskers*, do gráfico), assim vou utilizar o *Min-Max Scaler*. \n",
    "\n",
    "Esse procedimento pega cada valor da variável, subtrai da média e divide pelo intervalo de valores (intervalo sendo o resultado da subtração entre valor máximo e mínimo). "
   ]
  },
  {
   "cell_type": "code",
   "execution_count": 203,
   "metadata": {},
   "outputs": [],
   "source": [
    "mms_air_temperature = MinMaxScaler()\n",
    "df_train['air_temperature_k'] = mms_air_temperature.fit_transform(df_train[['air_temperature_k']].values)"
   ]
  },
  {
   "attachments": {},
   "cell_type": "markdown",
   "metadata": {},
   "source": [
    "#### 4.3.2 *process_temperature_k*"
   ]
  },
  {
   "attachments": {},
   "cell_type": "markdown",
   "metadata": {},
   "source": [
    "Aqui também vou usar o *Min-Max Scaler*, pelos mesmos motivos da variável acima. "
   ]
  },
  {
   "cell_type": "code",
   "execution_count": 204,
   "metadata": {},
   "outputs": [],
   "source": [
    "mms_process_temperature = MinMaxScaler()\n",
    "df_train['process_temperature_k'] = mms_process_temperature.fit_transform(df_train[['process_temperature_k']].values)"
   ]
  },
  {
   "attachments": {},
   "cell_type": "markdown",
   "metadata": {},
   "source": [
    "#### 4.3.3 *rotational_speed_rpm*"
   ]
  },
  {
   "attachments": {},
   "cell_type": "markdown",
   "metadata": {},
   "source": [
    "Como essa variável contém outliers, vou usar o *Robust Scaler* para ajustar os dados. \n",
    "\n",
    "Esse procedimento pega cada valor da variável, subtrai do 1º Quartil e divide pelo IQR (3º Quartil - 1º Quartil). "
   ]
  },
  {
   "cell_type": "code",
   "execution_count": 205,
   "metadata": {},
   "outputs": [],
   "source": [
    "rs_rotational_speed = RobustScaler()\n",
    "df_train['rotational_speed_rpm'] = rs_rotational_speed.fit_transform(df_train[['rotational_speed_rpm']].values)"
   ]
  },
  {
   "attachments": {},
   "cell_type": "markdown",
   "metadata": {},
   "source": [
    "#### 4.3.4 *tool_wear_min*"
   ]
  },
  {
   "attachments": {},
   "cell_type": "markdown",
   "metadata": {},
   "source": [
    "Por fim, também vou usar o *Min-Max Scaler* para essa variável."
   ]
  },
  {
   "cell_type": "code",
   "execution_count": 206,
   "metadata": {},
   "outputs": [],
   "source": [
    "mms_tool_wear = MinMaxScaler()\n",
    "df_train['tool_wear_min'] = mms_tool_wear.fit_transform(df_train[['tool_wear_min']].values)"
   ]
  },
  {
   "attachments": {},
   "cell_type": "markdown",
   "metadata": {},
   "source": [
    "#### 4.3.5 Verificando o *rescaling*"
   ]
  },
  {
   "cell_type": "code",
   "execution_count": 207,
   "metadata": {},
   "outputs": [
    {
     "data": {
      "text/html": [
       "<div>\n",
       "<style scoped>\n",
       "    .dataframe tbody tr th:only-of-type {\n",
       "        vertical-align: middle;\n",
       "    }\n",
       "\n",
       "    .dataframe tbody tr th {\n",
       "        vertical-align: top;\n",
       "    }\n",
       "\n",
       "    .dataframe thead th {\n",
       "        text-align: right;\n",
       "    }\n",
       "</style>\n",
       "<table border=\"1\" class=\"dataframe\">\n",
       "  <thead>\n",
       "    <tr style=\"text-align: right;\">\n",
       "      <th></th>\n",
       "      <th>air_temperature_k</th>\n",
       "      <th>process_temperature_k</th>\n",
       "      <th>rotational_speed_rpm</th>\n",
       "      <th>tool_wear_min</th>\n",
       "    </tr>\n",
       "  </thead>\n",
       "  <tbody>\n",
       "    <tr>\n",
       "      <th>4433</th>\n",
       "      <td>0.68</td>\n",
       "      <td>0.58</td>\n",
       "      <td>0.33</td>\n",
       "      <td>0.63</td>\n",
       "    </tr>\n",
       "    <tr>\n",
       "      <th>3685</th>\n",
       "      <td>0.82</td>\n",
       "      <td>0.79</td>\n",
       "      <td>2.45</td>\n",
       "      <td>0.23</td>\n",
       "    </tr>\n",
       "    <tr>\n",
       "      <th>1770</th>\n",
       "      <td>0.49</td>\n",
       "      <td>0.47</td>\n",
       "      <td>-0.43</td>\n",
       "      <td>0.55</td>\n",
       "    </tr>\n",
       "    <tr>\n",
       "      <th>2802</th>\n",
       "      <td>0.77</td>\n",
       "      <td>0.62</td>\n",
       "      <td>-0.74</td>\n",
       "      <td>0.63</td>\n",
       "    </tr>\n",
       "    <tr>\n",
       "      <th>5218</th>\n",
       "      <td>0.53</td>\n",
       "      <td>0.72</td>\n",
       "      <td>0.99</td>\n",
       "      <td>0.78</td>\n",
       "    </tr>\n",
       "  </tbody>\n",
       "</table>\n",
       "</div>"
      ],
      "text/plain": [
       "      air_temperature_k  process_temperature_k  rotational_speed_rpm  \\\n",
       "4433               0.68                   0.58                  0.33   \n",
       "3685               0.82                   0.79                  2.45   \n",
       "1770               0.49                   0.47                 -0.43   \n",
       "2802               0.77                   0.62                 -0.74   \n",
       "5218               0.53                   0.72                  0.99   \n",
       "\n",
       "      tool_wear_min  \n",
       "4433           0.63  \n",
       "3685           0.23  \n",
       "1770           0.55  \n",
       "2802           0.63  \n",
       "5218           0.78  "
      ]
     },
     "execution_count": 207,
     "metadata": {},
     "output_type": "execute_result"
    }
   ],
   "source": [
    "df_train[['air_temperature_k', 'process_temperature_k', 'rotational_speed_rpm', 'tool_wear_min']].head()"
   ]
  },
  {
   "attachments": {},
   "cell_type": "markdown",
   "metadata": {},
   "source": [
    "### 4.4 Transformação"
   ]
  },
  {
   "attachments": {},
   "cell_type": "markdown",
   "metadata": {},
   "source": [
    "#### 4.4.1 *Encoding* - Transformação de Variáveis Categóricas em Numéricas"
   ]
  },
  {
   "attachments": {},
   "cell_type": "markdown",
   "metadata": {},
   "source": [
    "##### *type*"
   ]
  },
  {
   "attachments": {},
   "cell_type": "markdown",
   "metadata": {},
   "source": [
    "Para essa variável categórica, vou usar o *Ordinal Encoding*, atribuindo números para cada valor de forma hierárquica."
   ]
  },
  {
   "cell_type": "code",
   "execution_count": 208,
   "metadata": {},
   "outputs": [
    {
     "data": {
      "text/plain": [
       "array([0, 2, 1], dtype=int64)"
      ]
     },
     "execution_count": 208,
     "metadata": {},
     "output_type": "execute_result"
    }
   ],
   "source": [
    "type_dict = {'L': 0, 'M': 1, 'H': 2}\n",
    "df_train['type'] = df_train['type'].map(type_dict)\n",
    "df_train['type'].unique()"
   ]
  },
  {
   "attachments": {},
   "cell_type": "markdown",
   "metadata": {},
   "source": [
    "##### *failure_type*"
   ]
  },
  {
   "attachments": {},
   "cell_type": "markdown",
   "metadata": {},
   "source": [
    "Para a variável resposta, também vou usar o *Ordinal Encoding* para atribuir números para cada tipo de falha. "
   ]
  },
  {
   "cell_type": "code",
   "execution_count": 209,
   "metadata": {},
   "outputs": [
    {
     "data": {
      "text/plain": [
       "array(['No Failure', 'Heat Dissipation Failure', 'Overstrain Failure',\n",
       "       'Random Failures', 'Tool Wear Failure', 'Power Failure'],\n",
       "      dtype=object)"
      ]
     },
     "execution_count": 209,
     "metadata": {},
     "output_type": "execute_result"
    }
   ],
   "source": [
    "df_train['failure_type'].unique()"
   ]
  },
  {
   "cell_type": "code",
   "execution_count": 210,
   "metadata": {},
   "outputs": [
    {
     "data": {
      "text/plain": [
       "array([0, 1, 5, 2, 4, 3], dtype=int64)"
      ]
     },
     "execution_count": 210,
     "metadata": {},
     "output_type": "execute_result"
    }
   ],
   "source": [
    "failure_dict = {'No Failure': 0, 'Heat Dissipation Failure': 1, 'Random Failures': 2, 'Power Failure': 3, 'Tool Wear Failure': 4, 'Overstrain Failure': 5}\n",
    "df_train['failure_type'] = df_train['failure_type'].map(failure_dict)\n",
    "df_train['failure_type'].unique()"
   ]
  },
  {
   "attachments": {},
   "cell_type": "markdown",
   "metadata": {},
   "source": [
    "Aqui vou criar um novo conjunto de dados contendo somente os valores da variável resposta para usar posteriormente na etapa de Seleção de *Features*"
   ]
  },
  {
   "cell_type": "code",
   "execution_count": 211,
   "metadata": {},
   "outputs": [],
   "source": [
    "y_train_b = df_train['failure_type'].copy()"
   ]
  },
  {
   "attachments": {},
   "cell_type": "markdown",
   "metadata": {},
   "source": [
    "### 4.5 Preparação dos Dados - Conjunto de Validação"
   ]
  },
  {
   "attachments": {},
   "cell_type": "markdown",
   "metadata": {},
   "source": [
    "Aqui vou preparar os dados de Validação com base na preparação e transformações feitas em cima dos dados de Treino."
   ]
  },
  {
   "cell_type": "code",
   "execution_count": 212,
   "metadata": {},
   "outputs": [],
   "source": [
    "x_validation.loc[:, 'type'] = x_validation.loc[:, 'type'].map(type_dict)\n",
    "x_validation.loc[:, 'air_temperature_k'] = mms_air_temperature.transform(x_validation[['air_temperature_k']].values)\n",
    "x_validation.loc[:, 'process_temperature_k'] = mms_process_temperature.transform(x_validation[['process_temperature_k']].values)\n",
    "x_validation.loc[:, 'rotational_speed_rpm'] = rs_rotational_speed.transform(x_validation[['rotational_speed_rpm']].values)\n",
    "x_validation.loc[:, 'torque_nm'] = ss_torque.transform(x_validation[['torque_nm']].values)\n",
    "x_validation.loc[:, 'tool_wear_min'] = mms_tool_wear.transform(x_validation[['tool_wear_min']].values)\n",
    "y_validation = y_validation.map(failure_dict)"
   ]
  },
  {
   "cell_type": "code",
   "execution_count": 213,
   "metadata": {},
   "outputs": [
    {
     "data": {
      "text/html": [
       "<div>\n",
       "<style scoped>\n",
       "    .dataframe tbody tr th:only-of-type {\n",
       "        vertical-align: middle;\n",
       "    }\n",
       "\n",
       "    .dataframe tbody tr th {\n",
       "        vertical-align: top;\n",
       "    }\n",
       "\n",
       "    .dataframe thead th {\n",
       "        text-align: right;\n",
       "    }\n",
       "</style>\n",
       "<table border=\"1\" class=\"dataframe\">\n",
       "  <thead>\n",
       "    <tr style=\"text-align: right;\">\n",
       "      <th></th>\n",
       "      <th>udi</th>\n",
       "      <th>product_id</th>\n",
       "      <th>type</th>\n",
       "      <th>air_temperature_k</th>\n",
       "      <th>process_temperature_k</th>\n",
       "      <th>rotational_speed_rpm</th>\n",
       "      <th>torque_nm</th>\n",
       "      <th>tool_wear_min</th>\n",
       "    </tr>\n",
       "  </thead>\n",
       "  <tbody>\n",
       "    <tr>\n",
       "      <th>3068</th>\n",
       "      <td>4595</td>\n",
       "      <td>M19454</td>\n",
       "      <td>1</td>\n",
       "      <td>0.84</td>\n",
       "      <td>0.68</td>\n",
       "      <td>-0.60</td>\n",
       "      <td>0.13</td>\n",
       "      <td>0.41</td>\n",
       "    </tr>\n",
       "    <tr>\n",
       "      <th>1929</th>\n",
       "      <td>2864</td>\n",
       "      <td>L50043</td>\n",
       "      <td>0</td>\n",
       "      <td>0.58</td>\n",
       "      <td>0.46</td>\n",
       "      <td>-0.16</td>\n",
       "      <td>0.40</td>\n",
       "      <td>0.99</td>\n",
       "    </tr>\n",
       "    <tr>\n",
       "      <th>3481</th>\n",
       "      <td>5220</td>\n",
       "      <td>L52399</td>\n",
       "      <td>0</td>\n",
       "      <td>0.92</td>\n",
       "      <td>0.90</td>\n",
       "      <td>-0.72</td>\n",
       "      <td>1.99</td>\n",
       "      <td>0.83</td>\n",
       "    </tr>\n",
       "    <tr>\n",
       "      <th>5650</th>\n",
       "      <td>8473</td>\n",
       "      <td>L55652</td>\n",
       "      <td>0</td>\n",
       "      <td>0.35</td>\n",
       "      <td>0.49</td>\n",
       "      <td>0.72</td>\n",
       "      <td>-0.24</td>\n",
       "      <td>0.32</td>\n",
       "    </tr>\n",
       "    <tr>\n",
       "      <th>4134</th>\n",
       "      <td>6210</td>\n",
       "      <td>L53389</td>\n",
       "      <td>0</td>\n",
       "      <td>0.59</td>\n",
       "      <td>0.60</td>\n",
       "      <td>-0.50</td>\n",
       "      <td>0.04</td>\n",
       "      <td>0.35</td>\n",
       "    </tr>\n",
       "  </tbody>\n",
       "</table>\n",
       "</div>"
      ],
      "text/plain": [
       "       udi product_id  type  air_temperature_k  process_temperature_k  \\\n",
       "3068  4595     M19454     1               0.84                   0.68   \n",
       "1929  2864     L50043     0               0.58                   0.46   \n",
       "3481  5220     L52399     0               0.92                   0.90   \n",
       "5650  8473     L55652     0               0.35                   0.49   \n",
       "4134  6210     L53389     0               0.59                   0.60   \n",
       "\n",
       "      rotational_speed_rpm  torque_nm  tool_wear_min  \n",
       "3068                 -0.60       0.13           0.41  \n",
       "1929                 -0.16       0.40           0.99  \n",
       "3481                 -0.72       1.99           0.83  \n",
       "5650                  0.72      -0.24           0.32  \n",
       "4134                 -0.50       0.04           0.35  "
      ]
     },
     "execution_count": 213,
     "metadata": {},
     "output_type": "execute_result"
    }
   ],
   "source": [
    "x_validation.head()"
   ]
  },
  {
   "cell_type": "code",
   "execution_count": 214,
   "metadata": {},
   "outputs": [
    {
     "data": {
      "text/plain": [
       "3068    0\n",
       "1929    0\n",
       "3481    5\n",
       "5650    0\n",
       "4134    0\n",
       "Name: failure_type, dtype: int64"
      ]
     },
     "execution_count": 214,
     "metadata": {},
     "output_type": "execute_result"
    }
   ],
   "source": [
    "y_validation.head()"
   ]
  },
  {
   "attachments": {},
   "cell_type": "markdown",
   "metadata": {},
   "source": [
    "## 5 Seleção de Variáveis - *Feature Selection*"
   ]
  },
  {
   "cell_type": "code",
   "execution_count": 215,
   "metadata": {},
   "outputs": [],
   "source": [
    "df4 = df_train.copy()"
   ]
  },
  {
   "attachments": {},
   "cell_type": "markdown",
   "metadata": {},
   "source": [
    "### 5.1 Seleção das Variáveis Usando o Boruta"
   ]
  },
  {
   "attachments": {},
   "cell_type": "markdown",
   "metadata": {},
   "source": [
    "Primeiro, vou tentar usar o método de Seleção de Variáveis por Subset (*Wrapper Method*), através do algoritmo Boruta.\n",
    "\n",
    "Para tanto, preciso transformar o conjunto de dados em vetores."
   ]
  },
  {
   "cell_type": "code",
   "execution_count": 60,
   "metadata": {},
   "outputs": [],
   "source": [
    "x_train_n = df4.drop(['udi', 'product_id', 'failure_type'], axis=1).values\n",
    "y_train_n = y_train_b.values.ravel()"
   ]
  },
  {
   "attachments": {},
   "cell_type": "markdown",
   "metadata": {},
   "source": [
    "O modelo que vou utilizar para a Seleção de Variáveis pelo Boruta será o RandomForest."
   ]
  },
  {
   "cell_type": "code",
   "execution_count": 61,
   "metadata": {},
   "outputs": [],
   "source": [
    "rf = RandomForestRegressor(n_jobs=-1)"
   ]
  },
  {
   "cell_type": "markdown",
   "metadata": {},
   "source": [
    "Feito esses ajustes, irei executar o Boruta para verificar quais são as variáveis mais relevantes para o modelo."
   ]
  },
  {
   "cell_type": "code",
   "execution_count": 62,
   "metadata": {},
   "outputs": [
    {
     "name": "stdout",
     "output_type": "stream",
     "text": [
      "Iteration: \t1 / 100\n",
      "Confirmed: \t0\n",
      "Tentative: \t6\n",
      "Rejected: \t0\n",
      "Iteration: \t2 / 100\n",
      "Confirmed: \t0\n",
      "Tentative: \t6\n",
      "Rejected: \t0\n",
      "Iteration: \t3 / 100\n",
      "Confirmed: \t0\n",
      "Tentative: \t6\n",
      "Rejected: \t0\n",
      "Iteration: \t4 / 100\n",
      "Confirmed: \t0\n",
      "Tentative: \t6\n",
      "Rejected: \t0\n",
      "Iteration: \t5 / 100\n",
      "Confirmed: \t0\n",
      "Tentative: \t6\n",
      "Rejected: \t0\n",
      "Iteration: \t6 / 100\n",
      "Confirmed: \t0\n",
      "Tentative: \t6\n",
      "Rejected: \t0\n",
      "Iteration: \t7 / 100\n",
      "Confirmed: \t0\n",
      "Tentative: \t6\n",
      "Rejected: \t0\n",
      "Iteration: \t8 / 100\n",
      "Confirmed: \t3\n",
      "Tentative: \t3\n",
      "Rejected: \t0\n",
      "Iteration: \t9 / 100\n",
      "Confirmed: \t3\n",
      "Tentative: \t3\n",
      "Rejected: \t0\n",
      "Iteration: \t10 / 100\n",
      "Confirmed: \t3\n",
      "Tentative: \t3\n",
      "Rejected: \t0\n",
      "Iteration: \t11 / 100\n",
      "Confirmed: \t3\n",
      "Tentative: \t3\n",
      "Rejected: \t0\n",
      "Iteration: \t12 / 100\n",
      "Confirmed: \t3\n",
      "Tentative: \t2\n",
      "Rejected: \t1\n",
      "Iteration: \t13 / 100\n",
      "Confirmed: \t3\n",
      "Tentative: \t2\n",
      "Rejected: \t1\n",
      "Iteration: \t14 / 100\n",
      "Confirmed: \t3\n",
      "Tentative: \t2\n",
      "Rejected: \t1\n",
      "Iteration: \t15 / 100\n",
      "Confirmed: \t3\n",
      "Tentative: \t2\n",
      "Rejected: \t1\n",
      "Iteration: \t16 / 100\n",
      "Confirmed: \t3\n",
      "Tentative: \t1\n",
      "Rejected: \t2\n",
      "Iteration: \t17 / 100\n",
      "Confirmed: \t3\n",
      "Tentative: \t1\n",
      "Rejected: \t2\n",
      "Iteration: \t18 / 100\n",
      "Confirmed: \t3\n",
      "Tentative: \t1\n",
      "Rejected: \t2\n",
      "Iteration: \t19 / 100\n",
      "Confirmed: \t3\n",
      "Tentative: \t1\n",
      "Rejected: \t2\n",
      "Iteration: \t20 / 100\n",
      "Confirmed: \t3\n",
      "Tentative: \t1\n",
      "Rejected: \t2\n",
      "Iteration: \t21 / 100\n",
      "Confirmed: \t3\n",
      "Tentative: \t1\n",
      "Rejected: \t2\n",
      "Iteration: \t22 / 100\n",
      "Confirmed: \t3\n",
      "Tentative: \t0\n",
      "Rejected: \t3\n",
      "\n",
      "\n",
      "BorutaPy finished running.\n",
      "\n",
      "Iteration: \t23 / 100\n",
      "Confirmed: \t3\n",
      "Tentative: \t0\n",
      "Rejected: \t3\n"
     ]
    }
   ],
   "source": [
    "boruta = BorutaPy(rf, n_estimators='auto', verbose=2).fit(x_train_n, y_train_n)"
   ]
  },
  {
   "attachments": {},
   "cell_type": "markdown",
   "metadata": {},
   "source": [
    "Agora vou verificar quais variáveis foram selecionadas."
   ]
  },
  {
   "cell_type": "code",
   "execution_count": 63,
   "metadata": {},
   "outputs": [
    {
     "data": {
      "text/plain": [
       "['rotational_speed_rpm', 'torque_nm', 'tool_wear_min']"
      ]
     },
     "execution_count": 63,
     "metadata": {},
     "output_type": "execute_result"
    }
   ],
   "source": [
    "cols_selected = boruta.support_.tolist()\n",
    "\n",
    "x_train_fs = x_train.drop(['udi', 'product_id'], axis=1)\n",
    "\n",
    "cols_selected_boruta = x_train_fs.iloc[:, cols_selected].columns.tolist()\n",
    "\n",
    "cols_selected_boruta"
   ]
  },
  {
   "attachments": {},
   "cell_type": "markdown",
   "metadata": {},
   "source": [
    "Aqui podemos ver que o Boruta selecionou apenas 3 variáveis como relevantes para a classificação da variável alvo."
   ]
  },
  {
   "attachments": {},
   "cell_type": "markdown",
   "metadata": {},
   "source": [
    "### 5.2 Seleção das Variáveis Usando *ExtraTreesClassifier*"
   ]
  },
  {
   "attachments": {},
   "cell_type": "markdown",
   "metadata": {},
   "source": [
    "Como alternativa ao outro método, vou utilizar da Seleção por Importância (*Embedded Method*), através do ExtraTreesClassifier."
   ]
  },
  {
   "cell_type": "code",
   "execution_count": 64,
   "metadata": {},
   "outputs": [],
   "source": [
    "forest = ExtraTreesClassifier(n_estimators = 250, random_state = 0, n_jobs=-1)"
   ]
  },
  {
   "cell_type": "code",
   "execution_count": 65,
   "metadata": {},
   "outputs": [],
   "source": [
    "x_train_n = df4.drop(['udi', 'product_id', 'failure_type'], axis=1)\n",
    "y_train_n = y_train.values"
   ]
  },
  {
   "cell_type": "code",
   "execution_count": 66,
   "metadata": {},
   "outputs": [
    {
     "data": {
      "text/html": [
       "<style>#sk-container-id-1 {color: black;background-color: white;}#sk-container-id-1 pre{padding: 0;}#sk-container-id-1 div.sk-toggleable {background-color: white;}#sk-container-id-1 label.sk-toggleable__label {cursor: pointer;display: block;width: 100%;margin-bottom: 0;padding: 0.3em;box-sizing: border-box;text-align: center;}#sk-container-id-1 label.sk-toggleable__label-arrow:before {content: \"▸\";float: left;margin-right: 0.25em;color: #696969;}#sk-container-id-1 label.sk-toggleable__label-arrow:hover:before {color: black;}#sk-container-id-1 div.sk-estimator:hover label.sk-toggleable__label-arrow:before {color: black;}#sk-container-id-1 div.sk-toggleable__content {max-height: 0;max-width: 0;overflow: hidden;text-align: left;background-color: #f0f8ff;}#sk-container-id-1 div.sk-toggleable__content pre {margin: 0.2em;color: black;border-radius: 0.25em;background-color: #f0f8ff;}#sk-container-id-1 input.sk-toggleable__control:checked~div.sk-toggleable__content {max-height: 200px;max-width: 100%;overflow: auto;}#sk-container-id-1 input.sk-toggleable__control:checked~label.sk-toggleable__label-arrow:before {content: \"▾\";}#sk-container-id-1 div.sk-estimator input.sk-toggleable__control:checked~label.sk-toggleable__label {background-color: #d4ebff;}#sk-container-id-1 div.sk-label input.sk-toggleable__control:checked~label.sk-toggleable__label {background-color: #d4ebff;}#sk-container-id-1 input.sk-hidden--visually {border: 0;clip: rect(1px 1px 1px 1px);clip: rect(1px, 1px, 1px, 1px);height: 1px;margin: -1px;overflow: hidden;padding: 0;position: absolute;width: 1px;}#sk-container-id-1 div.sk-estimator {font-family: monospace;background-color: #f0f8ff;border: 1px dotted black;border-radius: 0.25em;box-sizing: border-box;margin-bottom: 0.5em;}#sk-container-id-1 div.sk-estimator:hover {background-color: #d4ebff;}#sk-container-id-1 div.sk-parallel-item::after {content: \"\";width: 100%;border-bottom: 1px solid gray;flex-grow: 1;}#sk-container-id-1 div.sk-label:hover label.sk-toggleable__label {background-color: #d4ebff;}#sk-container-id-1 div.sk-serial::before {content: \"\";position: absolute;border-left: 1px solid gray;box-sizing: border-box;top: 0;bottom: 0;left: 50%;z-index: 0;}#sk-container-id-1 div.sk-serial {display: flex;flex-direction: column;align-items: center;background-color: white;padding-right: 0.2em;padding-left: 0.2em;position: relative;}#sk-container-id-1 div.sk-item {position: relative;z-index: 1;}#sk-container-id-1 div.sk-parallel {display: flex;align-items: stretch;justify-content: center;background-color: white;position: relative;}#sk-container-id-1 div.sk-item::before, #sk-container-id-1 div.sk-parallel-item::before {content: \"\";position: absolute;border-left: 1px solid gray;box-sizing: border-box;top: 0;bottom: 0;left: 50%;z-index: -1;}#sk-container-id-1 div.sk-parallel-item {display: flex;flex-direction: column;z-index: 1;position: relative;background-color: white;}#sk-container-id-1 div.sk-parallel-item:first-child::after {align-self: flex-end;width: 50%;}#sk-container-id-1 div.sk-parallel-item:last-child::after {align-self: flex-start;width: 50%;}#sk-container-id-1 div.sk-parallel-item:only-child::after {width: 0;}#sk-container-id-1 div.sk-dashed-wrapped {border: 1px dashed gray;margin: 0 0.4em 0.5em 0.4em;box-sizing: border-box;padding-bottom: 0.4em;background-color: white;}#sk-container-id-1 div.sk-label label {font-family: monospace;font-weight: bold;display: inline-block;line-height: 1.2em;}#sk-container-id-1 div.sk-label-container {text-align: center;}#sk-container-id-1 div.sk-container {/* jupyter's `normalize.less` sets `[hidden] { display: none; }` but bootstrap.min.css set `[hidden] { display: none !important; }` so we also need the `!important` here to be able to override the default hidden behavior on the sphinx rendered scikit-learn.org. See: https://github.com/scikit-learn/scikit-learn/issues/21755 */display: inline-block !important;position: relative;}#sk-container-id-1 div.sk-text-repr-fallback {display: none;}</style><div id=\"sk-container-id-1\" class=\"sk-top-container\"><div class=\"sk-text-repr-fallback\"><pre>ExtraTreesClassifier(n_estimators=250, n_jobs=-1, random_state=0)</pre><b>In a Jupyter environment, please rerun this cell to show the HTML representation or trust the notebook. <br />On GitHub, the HTML representation is unable to render, please try loading this page with nbviewer.org.</b></div><div class=\"sk-container\" hidden><div class=\"sk-item\"><div class=\"sk-estimator sk-toggleable\"><input class=\"sk-toggleable__control sk-hidden--visually\" id=\"sk-estimator-id-1\" type=\"checkbox\" checked><label for=\"sk-estimator-id-1\" class=\"sk-toggleable__label sk-toggleable__label-arrow\">ExtraTreesClassifier</label><div class=\"sk-toggleable__content\"><pre>ExtraTreesClassifier(n_estimators=250, n_jobs=-1, random_state=0)</pre></div></div></div></div></div>"
      ],
      "text/plain": [
       "ExtraTreesClassifier(n_estimators=250, n_jobs=-1, random_state=0)"
      ]
     },
     "execution_count": 66,
     "metadata": {},
     "output_type": "execute_result"
    }
   ],
   "source": [
    "forest.fit(x_train_n, y_train_n)"
   ]
  },
  {
   "cell_type": "code",
   "execution_count": 67,
   "metadata": {},
   "outputs": [
    {
     "data": {
      "text/html": [
       "<div>\n",
       "<style scoped>\n",
       "    .dataframe tbody tr th:only-of-type {\n",
       "        vertical-align: middle;\n",
       "    }\n",
       "\n",
       "    .dataframe tbody tr th {\n",
       "        vertical-align: top;\n",
       "    }\n",
       "\n",
       "    .dataframe thead th {\n",
       "        text-align: right;\n",
       "    }\n",
       "</style>\n",
       "<table border=\"1\" class=\"dataframe\">\n",
       "  <thead>\n",
       "    <tr style=\"text-align: right;\">\n",
       "      <th></th>\n",
       "      <th>feature</th>\n",
       "      <th>importance</th>\n",
       "    </tr>\n",
       "  </thead>\n",
       "  <tbody>\n",
       "    <tr>\n",
       "      <th>0</th>\n",
       "      <td>torque_nm</td>\n",
       "      <td>0.29</td>\n",
       "    </tr>\n",
       "    <tr>\n",
       "      <th>0</th>\n",
       "      <td>rotational_speed_rpm</td>\n",
       "      <td>0.21</td>\n",
       "    </tr>\n",
       "    <tr>\n",
       "      <th>0</th>\n",
       "      <td>tool_wear_min</td>\n",
       "      <td>0.18</td>\n",
       "    </tr>\n",
       "    <tr>\n",
       "      <th>0</th>\n",
       "      <td>air_temperature_k</td>\n",
       "      <td>0.15</td>\n",
       "    </tr>\n",
       "    <tr>\n",
       "      <th>0</th>\n",
       "      <td>process_temperature_k</td>\n",
       "      <td>0.13</td>\n",
       "    </tr>\n",
       "    <tr>\n",
       "      <th>0</th>\n",
       "      <td>type</td>\n",
       "      <td>0.04</td>\n",
       "    </tr>\n",
       "  </tbody>\n",
       "</table>\n",
       "</div>"
      ],
      "text/plain": [
       "                 feature  importance\n",
       "0              torque_nm        0.29\n",
       "0   rotational_speed_rpm        0.21\n",
       "0          tool_wear_min        0.18\n",
       "0      air_temperature_k        0.15\n",
       "0  process_temperature_k        0.13\n",
       "0                   type        0.04"
      ]
     },
     "metadata": {},
     "output_type": "display_data"
    }
   ],
   "source": [
    "importances = forest.feature_importances_\n",
    "std = np.std([tree.feature_importances_ for tree in forest.estimators_], axis = 0)\n",
    "index = np.argsort(importances)[::-1]\n",
    "\n",
    "df = pd.DataFrame()\n",
    "for i, j in zip(x_train_n, forest.feature_importances_):\n",
    "    aux = pd.DataFrame({'feature': i, 'importance': j}, index=[0])\n",
    "    df = pd.concat([df, aux], axis = 0)\n",
    "\n",
    "display(df.sort_values('importance', ascending=False))"
   ]
  },
  {
   "attachments": {},
   "cell_type": "markdown",
   "metadata": {},
   "source": [
    "Diante dessa tabela, podemos ver que a variável *type* é pouco importante para a classificação da variável alvo, então vou remover ela do conjunto de dados para o treinamento dos modelos."
   ]
  },
  {
   "attachments": {},
   "cell_type": "markdown",
   "metadata": {},
   "source": [
    "### 5.3 Variáveis Selecionadas"
   ]
  },
  {
   "cell_type": "code",
   "execution_count": 347,
   "metadata": {},
   "outputs": [],
   "source": [
    "cols_selected = ['air_temperature_k', 'process_temperature_k', 'rotational_speed_rpm', \n",
    "                 'torque_nm', 'tool_wear_min']"
   ]
  },
  {
   "attachments": {},
   "cell_type": "markdown",
   "metadata": {},
   "source": [
    "## 6. Modelos de Machine Learning"
   ]
  },
  {
   "cell_type": "code",
   "execution_count": 348,
   "metadata": {},
   "outputs": [],
   "source": [
    "df5 = df4.copy()"
   ]
  },
  {
   "attachments": {},
   "cell_type": "markdown",
   "metadata": {},
   "source": [
    "Para verificar o potencial de falha de uma máquina, vou utilizar os seguintes algoritmos, comparando suas performances posteriormente: \n",
    "- KNN (*K-Nearest Neighbors*)\n",
    "- *Logistic Regression*\n",
    "- *Extra Trees Classifier*\n",
    "- *LGBM Classifier*\n",
    "- *Naive Bayes Classifier*\n",
    "- *Linear SVC*"
   ]
  },
  {
   "attachments": {},
   "cell_type": "markdown",
   "metadata": {},
   "source": [
    "### 6.1 Preparando os Dados"
   ]
  },
  {
   "cell_type": "code",
   "execution_count": 349,
   "metadata": {},
   "outputs": [
    {
     "data": {
      "text/html": [
       "<div>\n",
       "<style scoped>\n",
       "    .dataframe tbody tr th:only-of-type {\n",
       "        vertical-align: middle;\n",
       "    }\n",
       "\n",
       "    .dataframe tbody tr th {\n",
       "        vertical-align: top;\n",
       "    }\n",
       "\n",
       "    .dataframe thead th {\n",
       "        text-align: right;\n",
       "    }\n",
       "</style>\n",
       "<table border=\"1\" class=\"dataframe\">\n",
       "  <thead>\n",
       "    <tr style=\"text-align: right;\">\n",
       "      <th></th>\n",
       "      <th>air_temperature_k</th>\n",
       "      <th>process_temperature_k</th>\n",
       "      <th>rotational_speed_rpm</th>\n",
       "      <th>torque_nm</th>\n",
       "      <th>tool_wear_min</th>\n",
       "    </tr>\n",
       "  </thead>\n",
       "  <tbody>\n",
       "    <tr>\n",
       "      <th>4433</th>\n",
       "      <td>0.68</td>\n",
       "      <td>0.58</td>\n",
       "      <td>0.33</td>\n",
       "      <td>-0.49</td>\n",
       "      <td>0.63</td>\n",
       "    </tr>\n",
       "    <tr>\n",
       "      <th>3685</th>\n",
       "      <td>0.82</td>\n",
       "      <td>0.79</td>\n",
       "      <td>2.45</td>\n",
       "      <td>-2.00</td>\n",
       "      <td>0.23</td>\n",
       "    </tr>\n",
       "    <tr>\n",
       "      <th>1770</th>\n",
       "      <td>0.49</td>\n",
       "      <td>0.47</td>\n",
       "      <td>-0.43</td>\n",
       "      <td>0.66</td>\n",
       "      <td>0.55</td>\n",
       "    </tr>\n",
       "    <tr>\n",
       "      <th>2802</th>\n",
       "      <td>0.77</td>\n",
       "      <td>0.62</td>\n",
       "      <td>-0.74</td>\n",
       "      <td>1.47</td>\n",
       "      <td>0.63</td>\n",
       "    </tr>\n",
       "    <tr>\n",
       "      <th>5218</th>\n",
       "      <td>0.53</td>\n",
       "      <td>0.72</td>\n",
       "      <td>0.99</td>\n",
       "      <td>-0.92</td>\n",
       "      <td>0.78</td>\n",
       "    </tr>\n",
       "  </tbody>\n",
       "</table>\n",
       "</div>"
      ],
      "text/plain": [
       "      air_temperature_k  process_temperature_k  rotational_speed_rpm  \\\n",
       "4433               0.68                   0.58                  0.33   \n",
       "3685               0.82                   0.79                  2.45   \n",
       "1770               0.49                   0.47                 -0.43   \n",
       "2802               0.77                   0.62                 -0.74   \n",
       "5218               0.53                   0.72                  0.99   \n",
       "\n",
       "      torque_nm  tool_wear_min  \n",
       "4433      -0.49           0.63  \n",
       "3685      -2.00           0.23  \n",
       "1770       0.66           0.55  \n",
       "2802       1.47           0.63  \n",
       "5218      -0.92           0.78  "
      ]
     },
     "execution_count": 349,
     "metadata": {},
     "output_type": "execute_result"
    }
   ],
   "source": [
    "x_train = df5[cols_selected]\n",
    "x_train.head()"
   ]
  },
  {
   "cell_type": "code",
   "execution_count": 350,
   "metadata": {},
   "outputs": [
    {
     "data": {
      "text/plain": [
       "4433    0\n",
       "3685    0\n",
       "1770    0\n",
       "2802    1\n",
       "5218    0\n",
       "Name: failure_type, dtype: int64"
      ]
     },
     "execution_count": 350,
     "metadata": {},
     "output_type": "execute_result"
    }
   ],
   "source": [
    "y_train = df5['failure_type'].copy()\n",
    "y_train.head()"
   ]
  },
  {
   "attachments": {},
   "cell_type": "markdown",
   "metadata": {},
   "source": [
    "Com os dados já preparados, agora vou lidar com o problema de desbalanceamento de classes. \n",
    "\n",
    "Para isso, vou usar da técnica de *Oversampling*, através da função SMOTE, que vai criar novos registros para as classes minoritárias (as falhas)."
   ]
  },
  {
   "cell_type": "code",
   "execution_count": 351,
   "metadata": {},
   "outputs": [],
   "source": [
    "oversample = SMOTE()\n",
    "x_train_over, y_train_over = oversample.fit_resample(x_train, y_train)"
   ]
  },
  {
   "cell_type": "code",
   "execution_count": 352,
   "metadata": {},
   "outputs": [
    {
     "name": "stdout",
     "output_type": "stream",
     "text": [
      "(30906, 5)\n",
      "(30906,)\n"
     ]
    }
   ],
   "source": [
    "print(x_train_over.shape)\n",
    "print(y_train_over.shape)"
   ]
  },
  {
   "attachments": {},
   "cell_type": "markdown",
   "metadata": {},
   "source": [
    "Podemos ver que foram criados milhares de registros para dar representatividade para as classes minoritárias. "
   ]
  },
  {
   "cell_type": "code",
   "execution_count": 353,
   "metadata": {},
   "outputs": [
    {
     "data": {
      "text/plain": [
       "0    5151\n",
       "1    5151\n",
       "5    5151\n",
       "2    5151\n",
       "4    5151\n",
       "3    5151\n",
       "Name: failure_type, dtype: int64"
      ]
     },
     "execution_count": 353,
     "metadata": {},
     "output_type": "execute_result"
    }
   ],
   "source": [
    "y_train_over.value_counts()"
   ]
  },
  {
   "attachments": {},
   "cell_type": "markdown",
   "metadata": {},
   "source": [
    "Por fim, aqui vemos que todas as classes da variável alvo tem a mesma quantidade de registros, como forma de 'melhorar' o treinamento dos algoritmos na detecção das falhas (antes eram classes minoritárias)."
   ]
  },
  {
   "cell_type": "code",
   "execution_count": 354,
   "metadata": {},
   "outputs": [
    {
     "data": {
      "text/html": [
       "<div>\n",
       "<style scoped>\n",
       "    .dataframe tbody tr th:only-of-type {\n",
       "        vertical-align: middle;\n",
       "    }\n",
       "\n",
       "    .dataframe tbody tr th {\n",
       "        vertical-align: top;\n",
       "    }\n",
       "\n",
       "    .dataframe thead th {\n",
       "        text-align: right;\n",
       "    }\n",
       "</style>\n",
       "<table border=\"1\" class=\"dataframe\">\n",
       "  <thead>\n",
       "    <tr style=\"text-align: right;\">\n",
       "      <th></th>\n",
       "      <th>air_temperature_k</th>\n",
       "      <th>process_temperature_k</th>\n",
       "      <th>rotational_speed_rpm</th>\n",
       "      <th>torque_nm</th>\n",
       "      <th>tool_wear_min</th>\n",
       "    </tr>\n",
       "  </thead>\n",
       "  <tbody>\n",
       "    <tr>\n",
       "      <th>3068</th>\n",
       "      <td>0.84</td>\n",
       "      <td>0.68</td>\n",
       "      <td>-0.60</td>\n",
       "      <td>0.13</td>\n",
       "      <td>0.41</td>\n",
       "    </tr>\n",
       "    <tr>\n",
       "      <th>1929</th>\n",
       "      <td>0.58</td>\n",
       "      <td>0.46</td>\n",
       "      <td>-0.16</td>\n",
       "      <td>0.40</td>\n",
       "      <td>0.99</td>\n",
       "    </tr>\n",
       "    <tr>\n",
       "      <th>3481</th>\n",
       "      <td>0.92</td>\n",
       "      <td>0.90</td>\n",
       "      <td>-0.72</td>\n",
       "      <td>1.99</td>\n",
       "      <td>0.83</td>\n",
       "    </tr>\n",
       "    <tr>\n",
       "      <th>5650</th>\n",
       "      <td>0.35</td>\n",
       "      <td>0.49</td>\n",
       "      <td>0.72</td>\n",
       "      <td>-0.24</td>\n",
       "      <td>0.32</td>\n",
       "    </tr>\n",
       "    <tr>\n",
       "      <th>4134</th>\n",
       "      <td>0.59</td>\n",
       "      <td>0.60</td>\n",
       "      <td>-0.50</td>\n",
       "      <td>0.04</td>\n",
       "      <td>0.35</td>\n",
       "    </tr>\n",
       "  </tbody>\n",
       "</table>\n",
       "</div>"
      ],
      "text/plain": [
       "      air_temperature_k  process_temperature_k  rotational_speed_rpm  \\\n",
       "3068               0.84                   0.68                 -0.60   \n",
       "1929               0.58                   0.46                 -0.16   \n",
       "3481               0.92                   0.90                 -0.72   \n",
       "5650               0.35                   0.49                  0.72   \n",
       "4134               0.59                   0.60                 -0.50   \n",
       "\n",
       "      torque_nm  tool_wear_min  \n",
       "3068       0.13           0.41  \n",
       "1929       0.40           0.99  \n",
       "3481       1.99           0.83  \n",
       "5650      -0.24           0.32  \n",
       "4134       0.04           0.35  "
      ]
     },
     "execution_count": 354,
     "metadata": {},
     "output_type": "execute_result"
    }
   ],
   "source": [
    "x_val = x_validation[cols_selected]\n",
    "x_val.head()"
   ]
  },
  {
   "cell_type": "code",
   "execution_count": 355,
   "metadata": {},
   "outputs": [
    {
     "data": {
      "text/plain": [
       "3068    0\n",
       "1929    0\n",
       "3481    5\n",
       "5650    0\n",
       "4134    0\n",
       "Name: failure_type, dtype: int64"
      ]
     },
     "execution_count": 355,
     "metadata": {},
     "output_type": "execute_result"
    }
   ],
   "source": [
    "y_val = y_validation.copy()\n",
    "y_val.head()"
   ]
  },
  {
   "attachments": {},
   "cell_type": "markdown",
   "metadata": {},
   "source": [
    "### 6.2 KNN"
   ]
  },
  {
   "cell_type": "code",
   "execution_count": 356,
   "metadata": {},
   "outputs": [],
   "source": [
    "# Modelo\n",
    "knn_model = OneVsRestClassifier(KNeighborsClassifier(n_neighbors = 7))\n",
    "# Treinamento\n",
    "knn_model.fit(x_train_over, y_train_over)\n",
    "# Previsão\n",
    "yhat_knn = knn_model.predict(x_val)"
   ]
  },
  {
   "attachments": {},
   "cell_type": "markdown",
   "metadata": {},
   "source": [
    "### 6.3 Logistic Regression"
   ]
  },
  {
   "cell_type": "code",
   "execution_count": 357,
   "metadata": {},
   "outputs": [],
   "source": [
    "# Modelo\n",
    "lr_model = OneVsRestClassifier(LogisticRegression(random_state=42, multi_class=\"multinomial\"))\n",
    "# Treinamento\n",
    "lr_model.fit(x_train_over, y_train_over)\n",
    "# Previsão\n",
    "yhat_lr = lr_model.predict(x_val)"
   ]
  },
  {
   "attachments": {},
   "cell_type": "markdown",
   "metadata": {},
   "source": [
    "### 6.4 Extra Trees Classifier"
   ]
  },
  {
   "cell_type": "code",
   "execution_count": 358,
   "metadata": {},
   "outputs": [],
   "source": [
    "# Modelo\n",
    "et_model = OneVsRestClassifier(ExtraTreesClassifier(n_estimators=300, n_jobs=-1, random_state=42))\n",
    "# Treinamento\n",
    "et_model.fit(x_train_over, y_train_over)\n",
    "# Previsão\n",
    "yhat_et = et_model.predict(x_val)"
   ]
  },
  {
   "attachments": {},
   "cell_type": "markdown",
   "metadata": {},
   "source": [
    "### 6.5 LGBM Classifier"
   ]
  },
  {
   "cell_type": "code",
   "execution_count": 359,
   "metadata": {},
   "outputs": [],
   "source": [
    "# Modelo\n",
    "lgbm_model = OneVsRestClassifier(LGBMClassifier())\n",
    "# Treinamento\n",
    "lgbm_model.fit(x_train_over, y_train_over)\n",
    "# Previsão\n",
    "yhat_lgbm = lgbm_model.predict(x_val)"
   ]
  },
  {
   "attachments": {},
   "cell_type": "markdown",
   "metadata": {},
   "source": [
    "### 6.6 Naive Bayes"
   ]
  },
  {
   "cell_type": "code",
   "execution_count": 360,
   "metadata": {},
   "outputs": [],
   "source": [
    "# Modelo\n",
    "nb_model = OneVsRestClassifier(GaussianNB())\n",
    "# Treinamento\n",
    "nb_model.fit(x_train_over, y_train_over)\n",
    "# Previsão\n",
    "yhat_nb = nb_model.predict(x_val)"
   ]
  },
  {
   "attachments": {},
   "cell_type": "markdown",
   "metadata": {},
   "source": [
    "### 6.7 LinearSVC"
   ]
  },
  {
   "cell_type": "code",
   "execution_count": 361,
   "metadata": {},
   "outputs": [],
   "source": [
    "# Modelo\n",
    "svc_model = OneVsRestClassifier(LinearSVC(multi_class='crammer_singer'))\n",
    "# Treinamento\n",
    "svc_model.fit(x_train_over, y_train_over)\n",
    "# Previsão\n",
    "yhat_svc = svc_model.predict(x_val)"
   ]
  },
  {
   "attachments": {},
   "cell_type": "markdown",
   "metadata": {},
   "source": [
    "## 7. Performance dos Modelos"
   ]
  },
  {
   "attachments": {},
   "cell_type": "markdown",
   "metadata": {},
   "source": [
    "Com os algoritmos devidamente treinados e com as previsões feitas, hora de comparar a performance de todos."
   ]
  },
  {
   "cell_type": "code",
   "execution_count": 362,
   "metadata": {},
   "outputs": [
    {
     "data": {
      "text/html": [
       "<div>\n",
       "<style scoped>\n",
       "    .dataframe tbody tr th:only-of-type {\n",
       "        vertical-align: middle;\n",
       "    }\n",
       "\n",
       "    .dataframe tbody tr th {\n",
       "        vertical-align: top;\n",
       "    }\n",
       "\n",
       "    .dataframe thead th {\n",
       "        text-align: right;\n",
       "    }\n",
       "</style>\n",
       "<table border=\"1\" class=\"dataframe\">\n",
       "  <thead>\n",
       "    <tr style=\"text-align: right;\">\n",
       "      <th></th>\n",
       "      <th>udi</th>\n",
       "      <th>product_id</th>\n",
       "      <th>type</th>\n",
       "      <th>air_temperature_k</th>\n",
       "      <th>process_temperature_k</th>\n",
       "      <th>rotational_speed_rpm</th>\n",
       "      <th>torque_nm</th>\n",
       "      <th>tool_wear_min</th>\n",
       "    </tr>\n",
       "  </thead>\n",
       "  <tbody>\n",
       "    <tr>\n",
       "      <th>3068</th>\n",
       "      <td>4595</td>\n",
       "      <td>M19454</td>\n",
       "      <td>1</td>\n",
       "      <td>0.84</td>\n",
       "      <td>0.68</td>\n",
       "      <td>-0.60</td>\n",
       "      <td>0.13</td>\n",
       "      <td>0.41</td>\n",
       "    </tr>\n",
       "    <tr>\n",
       "      <th>1929</th>\n",
       "      <td>2864</td>\n",
       "      <td>L50043</td>\n",
       "      <td>0</td>\n",
       "      <td>0.58</td>\n",
       "      <td>0.46</td>\n",
       "      <td>-0.16</td>\n",
       "      <td>0.40</td>\n",
       "      <td>0.99</td>\n",
       "    </tr>\n",
       "    <tr>\n",
       "      <th>3481</th>\n",
       "      <td>5220</td>\n",
       "      <td>L52399</td>\n",
       "      <td>0</td>\n",
       "      <td>0.92</td>\n",
       "      <td>0.90</td>\n",
       "      <td>-0.72</td>\n",
       "      <td>1.99</td>\n",
       "      <td>0.83</td>\n",
       "    </tr>\n",
       "    <tr>\n",
       "      <th>5650</th>\n",
       "      <td>8473</td>\n",
       "      <td>L55652</td>\n",
       "      <td>0</td>\n",
       "      <td>0.35</td>\n",
       "      <td>0.49</td>\n",
       "      <td>0.72</td>\n",
       "      <td>-0.24</td>\n",
       "      <td>0.32</td>\n",
       "    </tr>\n",
       "    <tr>\n",
       "      <th>4134</th>\n",
       "      <td>6210</td>\n",
       "      <td>L53389</td>\n",
       "      <td>0</td>\n",
       "      <td>0.59</td>\n",
       "      <td>0.60</td>\n",
       "      <td>-0.50</td>\n",
       "      <td>0.04</td>\n",
       "      <td>0.35</td>\n",
       "    </tr>\n",
       "  </tbody>\n",
       "</table>\n",
       "</div>"
      ],
      "text/plain": [
       "       udi product_id  type  air_temperature_k  process_temperature_k  \\\n",
       "3068  4595     M19454     1               0.84                   0.68   \n",
       "1929  2864     L50043     0               0.58                   0.46   \n",
       "3481  5220     L52399     0               0.92                   0.90   \n",
       "5650  8473     L55652     0               0.35                   0.49   \n",
       "4134  6210     L53389     0               0.59                   0.60   \n",
       "\n",
       "      rotational_speed_rpm  torque_nm  tool_wear_min  \n",
       "3068                 -0.60       0.13           0.41  \n",
       "1929                 -0.16       0.40           0.99  \n",
       "3481                 -0.72       1.99           0.83  \n",
       "5650                  0.72      -0.24           0.32  \n",
       "4134                 -0.50       0.04           0.35  "
      ]
     },
     "execution_count": 362,
     "metadata": {},
     "output_type": "execute_result"
    }
   ],
   "source": [
    "x_validation.head()"
   ]
  },
  {
   "cell_type": "code",
   "execution_count": 363,
   "metadata": {},
   "outputs": [
    {
     "data": {
      "text/html": [
       "<div>\n",
       "<style scoped>\n",
       "    .dataframe tbody tr th:only-of-type {\n",
       "        vertical-align: middle;\n",
       "    }\n",
       "\n",
       "    .dataframe tbody tr th {\n",
       "        vertical-align: top;\n",
       "    }\n",
       "\n",
       "    .dataframe thead th {\n",
       "        text-align: right;\n",
       "    }\n",
       "</style>\n",
       "<table border=\"1\" class=\"dataframe\">\n",
       "  <thead>\n",
       "    <tr style=\"text-align: right;\">\n",
       "      <th></th>\n",
       "      <th>udi</th>\n",
       "      <th>product_id</th>\n",
       "      <th>type</th>\n",
       "      <th>air_temperature_k</th>\n",
       "      <th>process_temperature_k</th>\n",
       "      <th>rotational_speed_rpm</th>\n",
       "      <th>torque_nm</th>\n",
       "      <th>tool_wear_min</th>\n",
       "      <th>failure_type</th>\n",
       "    </tr>\n",
       "  </thead>\n",
       "  <tbody>\n",
       "    <tr>\n",
       "      <th>3068</th>\n",
       "      <td>4595</td>\n",
       "      <td>M19454</td>\n",
       "      <td>1</td>\n",
       "      <td>0.84</td>\n",
       "      <td>0.68</td>\n",
       "      <td>-0.60</td>\n",
       "      <td>0.13</td>\n",
       "      <td>0.41</td>\n",
       "      <td>0</td>\n",
       "    </tr>\n",
       "    <tr>\n",
       "      <th>1929</th>\n",
       "      <td>2864</td>\n",
       "      <td>L50043</td>\n",
       "      <td>0</td>\n",
       "      <td>0.58</td>\n",
       "      <td>0.46</td>\n",
       "      <td>-0.16</td>\n",
       "      <td>0.40</td>\n",
       "      <td>0.99</td>\n",
       "      <td>0</td>\n",
       "    </tr>\n",
       "    <tr>\n",
       "      <th>3481</th>\n",
       "      <td>5220</td>\n",
       "      <td>L52399</td>\n",
       "      <td>0</td>\n",
       "      <td>0.92</td>\n",
       "      <td>0.90</td>\n",
       "      <td>-0.72</td>\n",
       "      <td>1.99</td>\n",
       "      <td>0.83</td>\n",
       "      <td>5</td>\n",
       "    </tr>\n",
       "    <tr>\n",
       "      <th>5650</th>\n",
       "      <td>8473</td>\n",
       "      <td>L55652</td>\n",
       "      <td>0</td>\n",
       "      <td>0.35</td>\n",
       "      <td>0.49</td>\n",
       "      <td>0.72</td>\n",
       "      <td>-0.24</td>\n",
       "      <td>0.32</td>\n",
       "      <td>0</td>\n",
       "    </tr>\n",
       "    <tr>\n",
       "      <th>4134</th>\n",
       "      <td>6210</td>\n",
       "      <td>L53389</td>\n",
       "      <td>0</td>\n",
       "      <td>0.59</td>\n",
       "      <td>0.60</td>\n",
       "      <td>-0.50</td>\n",
       "      <td>0.04</td>\n",
       "      <td>0.35</td>\n",
       "      <td>0</td>\n",
       "    </tr>\n",
       "  </tbody>\n",
       "</table>\n",
       "</div>"
      ],
      "text/plain": [
       "       udi product_id  type  air_temperature_k  process_temperature_k  \\\n",
       "3068  4595     M19454     1               0.84                   0.68   \n",
       "1929  2864     L50043     0               0.58                   0.46   \n",
       "3481  5220     L52399     0               0.92                   0.90   \n",
       "5650  8473     L55652     0               0.35                   0.49   \n",
       "4134  6210     L53389     0               0.59                   0.60   \n",
       "\n",
       "      rotational_speed_rpm  torque_nm  tool_wear_min  failure_type  \n",
       "3068                 -0.60       0.13           0.41             0  \n",
       "1929                 -0.16       0.40           0.99             0  \n",
       "3481                 -0.72       1.99           0.83             5  \n",
       "5650                  0.72      -0.24           0.32             0  \n",
       "4134                 -0.50       0.04           0.35             0  "
      ]
     },
     "execution_count": 363,
     "metadata": {},
     "output_type": "execute_result"
    }
   ],
   "source": [
    "df6 = x_validation.copy()\n",
    "df6['failure_type'] = y_validation.copy()\n",
    "df6.head()"
   ]
  },
  {
   "attachments": {},
   "cell_type": "markdown",
   "metadata": {},
   "source": [
    "### 7.1 Performance sem Cross-Validation"
   ]
  },
  {
   "attachments": {},
   "cell_type": "markdown",
   "metadata": {},
   "source": [
    "Aqui estou calculando o *Precision*, o *Recall*, o *F1-Score* e a *Accuracy* dos modelos com base no treinamento feito sobre o o conjunto de dados separado para Treino."
   ]
  },
  {
   "cell_type": "code",
   "execution_count": 364,
   "metadata": {},
   "outputs": [],
   "source": [
    "knn_aval = model_avaliation(df6, yhat_knn, y_val, 'KNN')\n",
    "lr_aval = model_avaliation(df6, yhat_lr, y_val, 'LogisticRegression')\n",
    "et_aval = model_avaliation(df6, yhat_et, y_val, 'ExtraTreesClassifier')\n",
    "lgbm_aval = model_avaliation(df6, yhat_lgbm, y_val, 'LGBMClassifier')\n",
    "nb_aval = model_avaliation(df6, yhat_nb, y_val, 'NaiveBayes')\n",
    "svc_aval = model_avaliation(df6, yhat_svc, y_val, 'LinearSVM')"
   ]
  },
  {
   "cell_type": "code",
   "execution_count": 365,
   "metadata": {},
   "outputs": [
    {
     "data": {
      "text/html": [
       "<div>\n",
       "<style scoped>\n",
       "    .dataframe tbody tr th:only-of-type {\n",
       "        vertical-align: middle;\n",
       "    }\n",
       "\n",
       "    .dataframe tbody tr th {\n",
       "        vertical-align: top;\n",
       "    }\n",
       "\n",
       "    .dataframe thead th {\n",
       "        text-align: right;\n",
       "    }\n",
       "</style>\n",
       "<table border=\"1\" class=\"dataframe\">\n",
       "  <thead>\n",
       "    <tr style=\"text-align: right;\">\n",
       "      <th></th>\n",
       "      <th>Precision</th>\n",
       "      <th>Recall</th>\n",
       "      <th>F1-Score</th>\n",
       "      <th>Accuracy</th>\n",
       "    </tr>\n",
       "  </thead>\n",
       "  <tbody>\n",
       "    <tr>\n",
       "      <th>LGBMClassifier</th>\n",
       "      <td>0.55</td>\n",
       "      <td>0.63</td>\n",
       "      <td>0.58</td>\n",
       "      <td>0.96</td>\n",
       "    </tr>\n",
       "    <tr>\n",
       "      <th>ExtraTreesClassifier</th>\n",
       "      <td>0.53</td>\n",
       "      <td>0.60</td>\n",
       "      <td>0.56</td>\n",
       "      <td>0.96</td>\n",
       "    </tr>\n",
       "    <tr>\n",
       "      <th>KNN</th>\n",
       "      <td>0.37</td>\n",
       "      <td>0.66</td>\n",
       "      <td>0.43</td>\n",
       "      <td>0.82</td>\n",
       "    </tr>\n",
       "    <tr>\n",
       "      <th>LinearSVM</th>\n",
       "      <td>0.37</td>\n",
       "      <td>0.77</td>\n",
       "      <td>0.42</td>\n",
       "      <td>0.68</td>\n",
       "    </tr>\n",
       "    <tr>\n",
       "      <th>LogisticRegression</th>\n",
       "      <td>0.38</td>\n",
       "      <td>0.76</td>\n",
       "      <td>0.42</td>\n",
       "      <td>0.62</td>\n",
       "    </tr>\n",
       "    <tr>\n",
       "      <th>NaiveBayes</th>\n",
       "      <td>0.26</td>\n",
       "      <td>0.61</td>\n",
       "      <td>0.25</td>\n",
       "      <td>0.42</td>\n",
       "    </tr>\n",
       "  </tbody>\n",
       "</table>\n",
       "</div>"
      ],
      "text/plain": [
       "                      Precision  Recall  F1-Score  Accuracy\n",
       "LGBMClassifier             0.55    0.63      0.58      0.96\n",
       "ExtraTreesClassifier       0.53    0.60      0.56      0.96\n",
       "KNN                        0.37    0.66      0.43      0.82\n",
       "LinearSVM                  0.37    0.77      0.42      0.68\n",
       "LogisticRegression         0.38    0.76      0.42      0.62\n",
       "NaiveBayes                 0.26    0.61      0.25      0.42"
      ]
     },
     "execution_count": 365,
     "metadata": {},
     "output_type": "execute_result"
    }
   ],
   "source": [
    "results = pd.concat([knn_aval, lr_aval, et_aval, lgbm_aval, nb_aval, svc_aval])\n",
    "results = results.sort_values('F1-Score', ascending=False)\n",
    "results"
   ]
  },
  {
   "attachments": {},
   "cell_type": "markdown",
   "metadata": {},
   "source": [
    "Intepretando essas métricas: \n",
    "- Precision: indica quantas classificações positivas são realmente positivas (quantas falhas foram corretamente classificadas como falhas); \n",
    "- Recall: de todas as classes positivas, quantas foram corretamente classificadas (quantas falhas o algoritmo classificou corretamente em relação a todas as falhas do conjunto de dados);\n",
    "- F1-Score: é uma média harmônica entre Precision e Recall; \n",
    "- Accuracy: indica quantas classificações o algoritmo acertou, tanto faz a classe (como temos um conjunto de dados desbalanceados, essa métrica não deve ser o foco de atenção)."
   ]
  },
  {
   "attachments": {},
   "cell_type": "markdown",
   "metadata": {},
   "source": [
    "Levando em conta o F1-Score, o algoritmo que apresentou melhor performance foi o LGBMClassifier."
   ]
  },
  {
   "attachments": {},
   "cell_type": "markdown",
   "metadata": {},
   "source": [
    "### 7.2 Performance com Cross-Validation"
   ]
  },
  {
   "attachments": {},
   "cell_type": "markdown",
   "metadata": {},
   "source": [
    "Agora, vou calcular as métricas dos modelos fazendo o *Cross-Validation*, procedimento que consiste em treinar o algoritmo sobre diferentes partes do conjunto de dados, medindo a performance de cada modelo sobre várias fatias do conjunto de dados, de modo a abranger toda (ou boa parte) da variabilidade do conjunto. "
   ]
  },
  {
   "cell_type": "code",
   "execution_count": 366,
   "metadata": {},
   "outputs": [],
   "source": [
    "knn_cv = cross_validation('KNN', knn_model, x_train, y_train)\n",
    "lr_cv = cross_validation('LogisticRegression', lr_model, x_train, y_train)\n",
    "et_cv = cross_validation('ExtraTreesClassifier', et_model, x_train, y_train)\n",
    "lgbm_cv = cross_validation('LGBMClassifier', lgbm_model, x_train, y_train)\n",
    "nb_cv = cross_validation('NaiveBayes', nb_model, x_train, y_train)\n",
    "svc_cv = cross_validation('LinearSVC', svc_model, x_train, y_train)"
   ]
  },
  {
   "cell_type": "code",
   "execution_count": 367,
   "metadata": {},
   "outputs": [
    {
     "data": {
      "text/html": [
       "<div>\n",
       "<style scoped>\n",
       "    .dataframe tbody tr th:only-of-type {\n",
       "        vertical-align: middle;\n",
       "    }\n",
       "\n",
       "    .dataframe tbody tr th {\n",
       "        vertical-align: top;\n",
       "    }\n",
       "\n",
       "    .dataframe thead th {\n",
       "        text-align: right;\n",
       "    }\n",
       "</style>\n",
       "<table border=\"1\" class=\"dataframe\">\n",
       "  <thead>\n",
       "    <tr style=\"text-align: right;\">\n",
       "      <th></th>\n",
       "      <th>Precision - CV</th>\n",
       "      <th>Recall - CV</th>\n",
       "      <th>F1-Score - CV</th>\n",
       "      <th>Accuracy - CV</th>\n",
       "    </tr>\n",
       "  </thead>\n",
       "  <tbody>\n",
       "    <tr>\n",
       "      <th>LGBMClassifier</th>\n",
       "      <td>0.54</td>\n",
       "      <td>0.63</td>\n",
       "      <td>0.57</td>\n",
       "      <td>0.95</td>\n",
       "    </tr>\n",
       "    <tr>\n",
       "      <th>ExtraTreesClassifier</th>\n",
       "      <td>0.48</td>\n",
       "      <td>0.55</td>\n",
       "      <td>0.50</td>\n",
       "      <td>0.96</td>\n",
       "    </tr>\n",
       "    <tr>\n",
       "      <th>KNN</th>\n",
       "      <td>0.36</td>\n",
       "      <td>0.62</td>\n",
       "      <td>0.41</td>\n",
       "      <td>0.81</td>\n",
       "    </tr>\n",
       "    <tr>\n",
       "      <th>LinearSVC</th>\n",
       "      <td>0.33</td>\n",
       "      <td>0.76</td>\n",
       "      <td>0.37</td>\n",
       "      <td>0.69</td>\n",
       "    </tr>\n",
       "    <tr>\n",
       "      <th>LogisticRegression</th>\n",
       "      <td>0.33</td>\n",
       "      <td>0.79</td>\n",
       "      <td>0.37</td>\n",
       "      <td>0.59</td>\n",
       "    </tr>\n",
       "    <tr>\n",
       "      <th>NaiveBayes</th>\n",
       "      <td>0.25</td>\n",
       "      <td>0.63</td>\n",
       "      <td>0.24</td>\n",
       "      <td>0.46</td>\n",
       "    </tr>\n",
       "  </tbody>\n",
       "</table>\n",
       "</div>"
      ],
      "text/plain": [
       "                      Precision - CV  Recall - CV  F1-Score - CV  \\\n",
       "LGBMClassifier                  0.54         0.63           0.57   \n",
       "ExtraTreesClassifier            0.48         0.55           0.50   \n",
       "KNN                             0.36         0.62           0.41   \n",
       "LinearSVC                       0.33         0.76           0.37   \n",
       "LogisticRegression              0.33         0.79           0.37   \n",
       "NaiveBayes                      0.25         0.63           0.24   \n",
       "\n",
       "                      Accuracy - CV  \n",
       "LGBMClassifier                 0.95  \n",
       "ExtraTreesClassifier           0.96  \n",
       "KNN                            0.81  \n",
       "LinearSVC                      0.69  \n",
       "LogisticRegression             0.59  \n",
       "NaiveBayes                     0.46  "
      ]
     },
     "execution_count": 367,
     "metadata": {},
     "output_type": "execute_result"
    }
   ],
   "source": [
    "results_cv = pd.concat([knn_cv, lr_cv, et_cv, lgbm_cv, nb_cv, svc_cv])\n",
    "results_cv = results_cv.sort_values('F1-Score - CV', ascending=False)\n",
    "results_cv"
   ]
  },
  {
   "attachments": {},
   "cell_type": "markdown",
   "metadata": {},
   "source": [
    "Calculando a média das métricas de performance dos modelos treinados sobre diferentes fatias do conjunto de dados, o LGBMClassifier apresentou novamente o melhor F1-Score."
   ]
  },
  {
   "attachments": {},
   "cell_type": "markdown",
   "metadata": {},
   "source": [
    "## 8. *Hyperparemeter Fine Tunning*"
   ]
  },
  {
   "attachments": {},
   "cell_type": "markdown",
   "metadata": {},
   "source": [
    "Escolhido o algoritmo com a melhor performance, agora vou utilizar da *Random Search* para tentar encontrar os melhores parâmetros do algoritmo, de modo a melhorar a performance do modelo. "
   ]
  },
  {
   "attachments": {},
   "cell_type": "markdown",
   "metadata": {},
   "source": [
    "### 8.1 *Random Search*"
   ]
  },
  {
   "attachments": {},
   "cell_type": "markdown",
   "metadata": {},
   "source": [
    "Primeiro vou definir alguns valores de parâmetros aleatórios, bem como quantas vezes eles vão ser combinados para treinamento do algoritmo."
   ]
  },
  {
   "cell_type": "code",
   "execution_count": 368,
   "metadata": {},
   "outputs": [],
   "source": [
    "param = {'num_leaves': [35, 40, 65],\n",
    "         'max_depth': [-1, 3, 5, 9],\n",
    "         'n_estimators': [50, 100, 200, 350],\n",
    "         'min_child_weight': [3, 8, 15], \n",
    "         'min_child_samples': [20, 30, 40],\n",
    "         'colsample_bytree': [0.3, 0.7, 0.9]\n",
    "}\n",
    "\n",
    "max_iterations = 10"
   ]
  },
  {
   "attachments": {},
   "cell_type": "markdown",
   "metadata": {},
   "source": [
    "Agora é só criar um *loop for* para treinar o modelo com as diferentes combinações de valores para os parâmetros."
   ]
  },
  {
   "cell_type": "code",
   "execution_count": 330,
   "metadata": {},
   "outputs": [
    {
     "name": "stdout",
     "output_type": "stream",
     "text": [
      "{'num_leaves': 65, 'max_depth': 5, 'n_estimators': 100, 'min_child_weight': 8, 'min_child_samples': 30, 'colsample_bytree': 0.3}\n",
      "{'num_leaves': 40, 'max_depth': 9, 'n_estimators': 100, 'min_child_weight': 15, 'min_child_samples': 20, 'colsample_bytree': 0.9}\n",
      "{'num_leaves': 35, 'max_depth': -1, 'n_estimators': 100, 'min_child_weight': 15, 'min_child_samples': 30, 'colsample_bytree': 0.9}\n",
      "{'num_leaves': 65, 'max_depth': 3, 'n_estimators': 50, 'min_child_weight': 8, 'min_child_samples': 20, 'colsample_bytree': 0.3}\n",
      "{'num_leaves': 40, 'max_depth': 5, 'n_estimators': 200, 'min_child_weight': 8, 'min_child_samples': 20, 'colsample_bytree': 0.7}\n",
      "{'num_leaves': 35, 'max_depth': 3, 'n_estimators': 350, 'min_child_weight': 3, 'min_child_samples': 20, 'colsample_bytree': 0.3}\n",
      "{'num_leaves': 65, 'max_depth': 5, 'n_estimators': 100, 'min_child_weight': 3, 'min_child_samples': 30, 'colsample_bytree': 0.9}\n",
      "{'num_leaves': 40, 'max_depth': 5, 'n_estimators': 50, 'min_child_weight': 3, 'min_child_samples': 30, 'colsample_bytree': 0.3}\n",
      "{'num_leaves': 65, 'max_depth': 3, 'n_estimators': 100, 'min_child_weight': 3, 'min_child_samples': 40, 'colsample_bytree': 0.3}\n",
      "{'num_leaves': 65, 'max_depth': -1, 'n_estimators': 350, 'min_child_weight': 3, 'min_child_samples': 30, 'colsample_bytree': 0.7}\n"
     ]
    }
   ],
   "source": [
    "final_result = pd.DataFrame()\n",
    "\n",
    "for i in range(max_iterations):\n",
    "    \n",
    "    # Escolhendo o conjunto de valores aleatoriamente\n",
    "    hp = {k: random.sample(v,1)[0] for k, v in param.items()}\n",
    "    print(hp)\n",
    "\n",
    "    # Criando o modelo    \n",
    "    model_lgbm = OneVsRestClassifier(LGBMClassifier(num_leaves = hp['num_leaves'],\n",
    "                                   max_depth = hp['max_depth'],\n",
    "                                   n_estimators = hp['n_estimators'],\n",
    "                                   min_child_weight = hp['min_child_weight'],\n",
    "                                   min_child_samples = hp['min_child_samples'],\n",
    "                                   colsample_bytree = hp['colsample_bytree']\n",
    "                                   ))\n",
    "    \n",
    "    # Verificando a perfomance com Cross-Validation\n",
    "    result = cross_validation('LGBMClassifier', model_lgbm, x_train, y_train)\n",
    "\n",
    "    # Criando o dataframe para comparação de métricas de performance\n",
    "    final_result = pd.concat([final_result, result])"
   ]
  },
  {
   "cell_type": "code",
   "execution_count": 331,
   "metadata": {},
   "outputs": [
    {
     "data": {
      "text/html": [
       "<div>\n",
       "<style scoped>\n",
       "    .dataframe tbody tr th:only-of-type {\n",
       "        vertical-align: middle;\n",
       "    }\n",
       "\n",
       "    .dataframe tbody tr th {\n",
       "        vertical-align: top;\n",
       "    }\n",
       "\n",
       "    .dataframe thead th {\n",
       "        text-align: right;\n",
       "    }\n",
       "</style>\n",
       "<table border=\"1\" class=\"dataframe\">\n",
       "  <thead>\n",
       "    <tr style=\"text-align: right;\">\n",
       "      <th></th>\n",
       "      <th>Precision - CV</th>\n",
       "      <th>Recall - CV</th>\n",
       "      <th>F1-Score - CV</th>\n",
       "      <th>Accuracy - CV</th>\n",
       "    </tr>\n",
       "  </thead>\n",
       "  <tbody>\n",
       "    <tr>\n",
       "      <th>LGBMClassifier</th>\n",
       "      <td>0.37</td>\n",
       "      <td>0.64</td>\n",
       "      <td>0.42</td>\n",
       "      <td>0.85</td>\n",
       "    </tr>\n",
       "    <tr>\n",
       "      <th>LGBMClassifier</th>\n",
       "      <td>0.47</td>\n",
       "      <td>0.66</td>\n",
       "      <td>0.52</td>\n",
       "      <td>0.92</td>\n",
       "    </tr>\n",
       "    <tr>\n",
       "      <th>LGBMClassifier</th>\n",
       "      <td>0.48</td>\n",
       "      <td>0.66</td>\n",
       "      <td>0.53</td>\n",
       "      <td>0.93</td>\n",
       "    </tr>\n",
       "    <tr>\n",
       "      <th>LGBMClassifier</th>\n",
       "      <td>0.30</td>\n",
       "      <td>0.67</td>\n",
       "      <td>0.33</td>\n",
       "      <td>0.67</td>\n",
       "    </tr>\n",
       "    <tr>\n",
       "      <th>LGBMClassifier</th>\n",
       "      <td>0.50</td>\n",
       "      <td>0.65</td>\n",
       "      <td>0.55</td>\n",
       "      <td>0.94</td>\n",
       "    </tr>\n",
       "    <tr>\n",
       "      <th>LGBMClassifier</th>\n",
       "      <td>0.44</td>\n",
       "      <td>0.64</td>\n",
       "      <td>0.49</td>\n",
       "      <td>0.90</td>\n",
       "    </tr>\n",
       "    <tr>\n",
       "      <th>LGBMClassifier</th>\n",
       "      <td>0.51</td>\n",
       "      <td>0.68</td>\n",
       "      <td>0.56</td>\n",
       "      <td>0.92</td>\n",
       "    </tr>\n",
       "    <tr>\n",
       "      <th>LGBMClassifier</th>\n",
       "      <td>0.32</td>\n",
       "      <td>0.63</td>\n",
       "      <td>0.36</td>\n",
       "      <td>0.76</td>\n",
       "    </tr>\n",
       "    <tr>\n",
       "      <th>LGBMClassifier</th>\n",
       "      <td>0.33</td>\n",
       "      <td>0.68</td>\n",
       "      <td>0.39</td>\n",
       "      <td>0.77</td>\n",
       "    </tr>\n",
       "    <tr>\n",
       "      <th>LGBMClassifier</th>\n",
       "      <td>0.55</td>\n",
       "      <td>0.62</td>\n",
       "      <td>0.57</td>\n",
       "      <td>0.96</td>\n",
       "    </tr>\n",
       "  </tbody>\n",
       "</table>\n",
       "</div>"
      ],
      "text/plain": [
       "                Precision - CV  Recall - CV  F1-Score - CV  Accuracy - CV\n",
       "LGBMClassifier            0.37         0.64           0.42           0.85\n",
       "LGBMClassifier            0.47         0.66           0.52           0.92\n",
       "LGBMClassifier            0.48         0.66           0.53           0.93\n",
       "LGBMClassifier            0.30         0.67           0.33           0.67\n",
       "LGBMClassifier            0.50         0.65           0.55           0.94\n",
       "LGBMClassifier            0.44         0.64           0.49           0.90\n",
       "LGBMClassifier            0.51         0.68           0.56           0.92\n",
       "LGBMClassifier            0.32         0.63           0.36           0.76\n",
       "LGBMClassifier            0.33         0.68           0.39           0.77\n",
       "LGBMClassifier            0.55         0.62           0.57           0.96"
      ]
     },
     "execution_count": 331,
     "metadata": {},
     "output_type": "execute_result"
    }
   ],
   "source": [
    "final_result"
   ]
  },
  {
   "attachments": {},
   "cell_type": "markdown",
   "metadata": {},
   "source": [
    "Olhando para o conjunto de parâmetros e o F1-Score obtido com o Cross-Validation, os melhores parâmetros são: "
   ]
  },
  {
   "cell_type": "code",
   "execution_count": 332,
   "metadata": {},
   "outputs": [],
   "source": [
    "best_params = {'num_leaves': 65, 'max_depth': -1, 'n_estimators': 350, 'min_child_weight': 3, 'min_child_samples': 30, 'colsample_bytree': 0.7}"
   ]
  },
  {
   "attachments": {},
   "cell_type": "markdown",
   "metadata": {},
   "source": [
    "### 8.2 Desempenho do Modelo Final"
   ]
  },
  {
   "cell_type": "code",
   "execution_count": 333,
   "metadata": {},
   "outputs": [],
   "source": [
    "# Modelo com os melhores parâmetros\n",
    "lgbm_model_tuned = OneVsRestClassifier(LGBMClassifier(num_leaves = best_params['num_leaves'],\n",
    "                                   max_depth = best_params['max_depth'],\n",
    "                                   n_estimators = best_params['n_estimators'],\n",
    "                                   min_child_weight = best_params['min_child_weight'],\n",
    "                                   min_child_samples = best_params['min_child_samples'],\n",
    "                                   colsample_bytree = best_params['colsample_bytree']\n",
    "                                   ))\n",
    "# Treinamento\n",
    "lgbm_model_tuned.fit(x_train, y_train)\n",
    "# Previsão\n",
    "yhat_lgbm_tuned = lgbm_model_tuned.predict(x_val)"
   ]
  },
  {
   "attachments": {},
   "cell_type": "markdown",
   "metadata": {},
   "source": [
    "#### 8.2.1 Performance sem Cross-Validation"
   ]
  },
  {
   "cell_type": "code",
   "execution_count": 334,
   "metadata": {},
   "outputs": [
    {
     "data": {
      "text/html": [
       "<div>\n",
       "<style scoped>\n",
       "    .dataframe tbody tr th:only-of-type {\n",
       "        vertical-align: middle;\n",
       "    }\n",
       "\n",
       "    .dataframe tbody tr th {\n",
       "        vertical-align: top;\n",
       "    }\n",
       "\n",
       "    .dataframe thead th {\n",
       "        text-align: right;\n",
       "    }\n",
       "</style>\n",
       "<table border=\"1\" class=\"dataframe\">\n",
       "  <thead>\n",
       "    <tr style=\"text-align: right;\">\n",
       "      <th></th>\n",
       "      <th>Precision</th>\n",
       "      <th>Recall</th>\n",
       "      <th>F1-Score</th>\n",
       "      <th>Accuracy</th>\n",
       "    </tr>\n",
       "  </thead>\n",
       "  <tbody>\n",
       "    <tr>\n",
       "      <th>LGBMClassifier Tuned</th>\n",
       "      <td>0.57</td>\n",
       "      <td>0.54</td>\n",
       "      <td>0.55</td>\n",
       "      <td>0.98</td>\n",
       "    </tr>\n",
       "  </tbody>\n",
       "</table>\n",
       "</div>"
      ],
      "text/plain": [
       "                      Precision  Recall  F1-Score  Accuracy\n",
       "LGBMClassifier Tuned       0.57    0.54      0.55      0.98"
      ]
     },
     "execution_count": 334,
     "metadata": {},
     "output_type": "execute_result"
    }
   ],
   "source": [
    "lgbm_tuned_aval = model_avaliation(df6, yhat_lgbm_tuned, y_val, 'LGBMClassifier Tuned')\n",
    "lgbm_tuned_aval"
   ]
  },
  {
   "attachments": {},
   "cell_type": "markdown",
   "metadata": {},
   "source": [
    "#### 8.2.1 Performance com Cross-Validation"
   ]
  },
  {
   "cell_type": "code",
   "execution_count": 335,
   "metadata": {},
   "outputs": [
    {
     "data": {
      "text/html": [
       "<div>\n",
       "<style scoped>\n",
       "    .dataframe tbody tr th:only-of-type {\n",
       "        vertical-align: middle;\n",
       "    }\n",
       "\n",
       "    .dataframe tbody tr th {\n",
       "        vertical-align: top;\n",
       "    }\n",
       "\n",
       "    .dataframe thead th {\n",
       "        text-align: right;\n",
       "    }\n",
       "</style>\n",
       "<table border=\"1\" class=\"dataframe\">\n",
       "  <thead>\n",
       "    <tr style=\"text-align: right;\">\n",
       "      <th></th>\n",
       "      <th>Precision - CV</th>\n",
       "      <th>Recall - CV</th>\n",
       "      <th>F1-Score - CV</th>\n",
       "      <th>Accuracy - CV</th>\n",
       "    </tr>\n",
       "  </thead>\n",
       "  <tbody>\n",
       "    <tr>\n",
       "      <th>LGBMClassifier Tuned</th>\n",
       "      <td>0.55</td>\n",
       "      <td>0.62</td>\n",
       "      <td>0.58</td>\n",
       "      <td>0.96</td>\n",
       "    </tr>\n",
       "  </tbody>\n",
       "</table>\n",
       "</div>"
      ],
      "text/plain": [
       "                      Precision - CV  Recall - CV  F1-Score - CV  \\\n",
       "LGBMClassifier Tuned            0.55         0.62           0.58   \n",
       "\n",
       "                      Accuracy - CV  \n",
       "LGBMClassifier Tuned           0.96  "
      ]
     },
     "execution_count": 335,
     "metadata": {},
     "output_type": "execute_result"
    }
   ],
   "source": [
    "lgbm_tuned_cv = cross_validation('LGBMClassifier Tuned', lgbm_model_tuned, x_train, y_train)\n",
    "lgbm_tuned_cv"
   ]
  },
  {
   "attachments": {},
   "cell_type": "markdown",
   "metadata": {},
   "source": [
    "#### 8.2.3 Comparação da performance entre Modelo Base e Modelo 'Tunado'"
   ]
  },
  {
   "cell_type": "code",
   "execution_count": 336,
   "metadata": {},
   "outputs": [
    {
     "data": {
      "text/html": [
       "<div>\n",
       "<style scoped>\n",
       "    .dataframe tbody tr th:only-of-type {\n",
       "        vertical-align: middle;\n",
       "    }\n",
       "\n",
       "    .dataframe tbody tr th {\n",
       "        vertical-align: top;\n",
       "    }\n",
       "\n",
       "    .dataframe thead th {\n",
       "        text-align: right;\n",
       "    }\n",
       "</style>\n",
       "<table border=\"1\" class=\"dataframe\">\n",
       "  <thead>\n",
       "    <tr style=\"text-align: right;\">\n",
       "      <th></th>\n",
       "      <th>Precision</th>\n",
       "      <th>Recall</th>\n",
       "      <th>F1-Score</th>\n",
       "      <th>Accuracy</th>\n",
       "    </tr>\n",
       "  </thead>\n",
       "  <tbody>\n",
       "    <tr>\n",
       "      <th>LGBMClassifier</th>\n",
       "      <td>0.56</td>\n",
       "      <td>0.65</td>\n",
       "      <td>0.59</td>\n",
       "      <td>0.95</td>\n",
       "    </tr>\n",
       "    <tr>\n",
       "      <th>LGBMClassifier Tuned</th>\n",
       "      <td>0.57</td>\n",
       "      <td>0.54</td>\n",
       "      <td>0.55</td>\n",
       "      <td>0.98</td>\n",
       "    </tr>\n",
       "  </tbody>\n",
       "</table>\n",
       "</div>"
      ],
      "text/plain": [
       "                      Precision  Recall  F1-Score  Accuracy\n",
       "LGBMClassifier             0.56    0.65      0.59      0.95\n",
       "LGBMClassifier Tuned       0.57    0.54      0.55      0.98"
      ]
     },
     "execution_count": 336,
     "metadata": {},
     "output_type": "execute_result"
    }
   ],
   "source": [
    "lgbm_compare = pd.concat([lgbm_aval, lgbm_tuned_aval])\n",
    "lgbm_compare"
   ]
  },
  {
   "cell_type": "code",
   "execution_count": 337,
   "metadata": {},
   "outputs": [
    {
     "data": {
      "text/html": [
       "<div>\n",
       "<style scoped>\n",
       "    .dataframe tbody tr th:only-of-type {\n",
       "        vertical-align: middle;\n",
       "    }\n",
       "\n",
       "    .dataframe tbody tr th {\n",
       "        vertical-align: top;\n",
       "    }\n",
       "\n",
       "    .dataframe thead th {\n",
       "        text-align: right;\n",
       "    }\n",
       "</style>\n",
       "<table border=\"1\" class=\"dataframe\">\n",
       "  <thead>\n",
       "    <tr style=\"text-align: right;\">\n",
       "      <th></th>\n",
       "      <th>Precision - CV</th>\n",
       "      <th>Recall - CV</th>\n",
       "      <th>F1-Score - CV</th>\n",
       "      <th>Accuracy - CV</th>\n",
       "    </tr>\n",
       "  </thead>\n",
       "  <tbody>\n",
       "    <tr>\n",
       "      <th>LGBMClassifier</th>\n",
       "      <td>0.56</td>\n",
       "      <td>0.63</td>\n",
       "      <td>0.58</td>\n",
       "      <td>0.95</td>\n",
       "    </tr>\n",
       "    <tr>\n",
       "      <th>LGBMClassifier Tuned</th>\n",
       "      <td>0.55</td>\n",
       "      <td>0.62</td>\n",
       "      <td>0.58</td>\n",
       "      <td>0.96</td>\n",
       "    </tr>\n",
       "  </tbody>\n",
       "</table>\n",
       "</div>"
      ],
      "text/plain": [
       "                      Precision - CV  Recall - CV  F1-Score - CV  \\\n",
       "LGBMClassifier                  0.56         0.63           0.58   \n",
       "LGBMClassifier Tuned            0.55         0.62           0.58   \n",
       "\n",
       "                      Accuracy - CV  \n",
       "LGBMClassifier                 0.95  \n",
       "LGBMClassifier Tuned           0.96  "
      ]
     },
     "execution_count": 337,
     "metadata": {},
     "output_type": "execute_result"
    }
   ],
   "source": [
    "lgbm_compare_cv = pd.concat([lgbm_cv, lgbm_tuned_cv])\n",
    "lgbm_compare_cv"
   ]
  },
  {
   "attachments": {},
   "cell_type": "markdown",
   "metadata": {},
   "source": [
    "Aqui podemos ver que, mesmo tentando encontrar os melhores parâmetros para o algoritmo através da *Random Search*, o algoritmo base (com os valores default para os parâmetros) tem os melhores resultados, de modo que seria esse o modelo a ser adotado para *deploy* em produção. "
   ]
  },
  {
   "attachments": {},
   "cell_type": "markdown",
   "metadata": {},
   "source": [
    "## 9. Traduzindo para Performance do Negócio"
   ]
  },
  {
   "attachments": {},
   "cell_type": "markdown",
   "metadata": {},
   "source": [
    "Mais importante do que treinar o modelo para fazer as classificações da forma correta, é necessário traduzir essas métricas de performance para resultados de negócio, que poderão ser apresentados para os *stakeholders* para demonstrar o impacto e o retorno financeiro decorrente do modelo de Machine Learning.\n",
    "\n",
    "No presente caso, a correta previsão de que uma máquina vai apresentar uma falha serve como gatilho para que seja feita uma manutenção preventiva, impedindo que a máquina falhe na produção do produto ou até mesmo quebre, acarretando em lentidão e prejuízos no processo produtivo. \n",
    "\n",
    "Por mais que a manutenção preventiva possa parar o processo de produção por um tempo, não se compara ao tempo que o processo produtivo ficaria parado caso uma máquina falhasse e viesse a quebrar. \n",
    "\n",
    "Assim, uma forma de traduzir a performance do algoritmo para resultados de negócio seria demonstrando o prejuízo financeiro (ou quanto a empresa deixaria de ganhar) que a empresa teria caso uma máquina falhasse e prejudicasse o processo produtivo."
   ]
  }
 ],
 "metadata": {
  "kernelspec": {
   "display_name": "desafio_indicium",
   "language": "python",
   "name": "python3"
  },
  "language_info": {
   "codemirror_mode": {
    "name": "ipython",
    "version": 3
   },
   "file_extension": ".py",
   "mimetype": "text/x-python",
   "name": "python",
   "nbconvert_exporter": "python",
   "pygments_lexer": "ipython3",
   "version": "3.9.16"
  },
  "orig_nbformat": 4,
  "vscode": {
   "interpreter": {
    "hash": "ab85d56f68cb60e8af6f6c3001f75a4f8e8dd951b7618ad15b2633a1d6db37c6"
   }
  }
 },
 "nbformat": 4,
 "nbformat_minor": 2
}
